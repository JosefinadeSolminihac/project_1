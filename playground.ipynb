{
 "cells": [
  {
   "cell_type": "code",
   "execution_count": 92,
   "id": "2fda6133",
   "metadata": {},
   "outputs": [],
   "source": [
    "# load dependencies\n",
    "import os\n",
    "import numpy as np\n",
    "import pandas as pd\n",
    "import matplotlib.pyplot as plt\n",
    "import seaborn as sns\n",
    "import requests\n",
    "import datetime\n",
    "import plotly.graph_objects as go\n",
    "from plotly.subplots import make_subplots"
   ]
  },
  {
   "cell_type": "code",
   "execution_count": 11,
   "id": "9cd69781",
   "metadata": {},
   "outputs": [],
   "source": [
    "# connect to CryptoCompare API\n",
    "api_key = os.environ.get(\"CryptoCompare_API_KEY\")"
   ]
  },
  {
   "cell_type": "code",
   "execution_count": 12,
   "id": "6bb06015",
   "metadata": {},
   "outputs": [],
   "source": [
    "def RetrieveDailyPrice(sym, comp_sym, all_data=True, exchange=''):\n",
    "    url = \"https://min-api.cryptocompare.com/data/v2/histoday?fsym={}&tsym={}&limit=2000\"\\\n",
    "        .format(sym.upper(), comp_sym.upper())\n",
    "    \n",
    "    if exchange:\n",
    "        url += f'&e={exchange}'\n",
    "        \n",
    "    url += f\"&api_key={api_key}\"\n",
    "    \n",
    "    response = requests.get(url)\n",
    "    data = response.json()[\"Data\"]\n",
    "    \n",
    "    if not data:\n",
    "        return pd.DataFrame()\n",
    "    \n",
    "    crypto_df = pd.DataFrame(data[\"Data\"])\n",
    "        \n",
    "    return crypto_df"
   ]
  },
  {
   "cell_type": "code",
   "execution_count": 13,
   "id": "4b311121",
   "metadata": {},
   "outputs": [],
   "source": [
    "cryp_dict = {}\n",
    "\n",
    "ftx_collapse = pd.to_datetime(\"2022-11-11\")\n",
    "start = ftx_collapse - datetime.timedelta(days=14)\n",
    "end = ftx_collapse + datetime.timedelta(days=14)"
   ]
  },
  {
   "cell_type": "code",
   "execution_count": 21,
   "id": "51bb1aad",
   "metadata": {},
   "outputs": [
    {
     "data": {
      "text/html": [
       "<div>\n",
       "<style scoped>\n",
       "    .dataframe tbody tr th:only-of-type {\n",
       "        vertical-align: middle;\n",
       "    }\n",
       "\n",
       "    .dataframe tbody tr th {\n",
       "        vertical-align: top;\n",
       "    }\n",
       "\n",
       "    .dataframe thead th {\n",
       "        text-align: right;\n",
       "    }\n",
       "</style>\n",
       "<table border=\"1\" class=\"dataframe\">\n",
       "  <thead>\n",
       "    <tr style=\"text-align: right;\">\n",
       "      <th></th>\n",
       "      <th>time</th>\n",
       "      <th>high</th>\n",
       "      <th>low</th>\n",
       "      <th>open</th>\n",
       "      <th>volumefrom</th>\n",
       "      <th>volumeto</th>\n",
       "      <th>close</th>\n",
       "      <th>conversionType</th>\n",
       "      <th>conversionSymbol</th>\n",
       "    </tr>\n",
       "  </thead>\n",
       "  <tbody>\n",
       "    <tr>\n",
       "      <th>0</th>\n",
       "      <td>1502323200</td>\n",
       "      <td>0.002180</td>\n",
       "      <td>0.001843</td>\n",
       "      <td>0.001914</td>\n",
       "      <td>7057551.95</td>\n",
       "      <td>13563.00</td>\n",
       "      <td>0.001934</td>\n",
       "      <td>direct</td>\n",
       "      <td></td>\n",
       "    </tr>\n",
       "    <tr>\n",
       "      <th>1</th>\n",
       "      <td>1502409600</td>\n",
       "      <td>0.001957</td>\n",
       "      <td>0.001800</td>\n",
       "      <td>0.001934</td>\n",
       "      <td>5449093.37</td>\n",
       "      <td>10170.41</td>\n",
       "      <td>0.001871</td>\n",
       "      <td>direct</td>\n",
       "      <td></td>\n",
       "    </tr>\n",
       "    <tr>\n",
       "      <th>2</th>\n",
       "      <td>1502496000</td>\n",
       "      <td>0.001998</td>\n",
       "      <td>0.001745</td>\n",
       "      <td>0.001871</td>\n",
       "      <td>3301406.86</td>\n",
       "      <td>6192.27</td>\n",
       "      <td>0.001854</td>\n",
       "      <td>direct</td>\n",
       "      <td></td>\n",
       "    </tr>\n",
       "    <tr>\n",
       "      <th>3</th>\n",
       "      <td>1502582400</td>\n",
       "      <td>0.001883</td>\n",
       "      <td>0.001405</td>\n",
       "      <td>0.001854</td>\n",
       "      <td>6449974.80</td>\n",
       "      <td>11409.45</td>\n",
       "      <td>0.001779</td>\n",
       "      <td>direct</td>\n",
       "      <td></td>\n",
       "    </tr>\n",
       "    <tr>\n",
       "      <th>4</th>\n",
       "      <td>1502668800</td>\n",
       "      <td>0.001909</td>\n",
       "      <td>0.001688</td>\n",
       "      <td>0.001779</td>\n",
       "      <td>6337540.17</td>\n",
       "      <td>11084.22</td>\n",
       "      <td>0.001754</td>\n",
       "      <td>direct</td>\n",
       "      <td></td>\n",
       "    </tr>\n",
       "  </tbody>\n",
       "</table>\n",
       "</div>"
      ],
      "text/plain": [
       "         time      high       low      open  volumefrom  volumeto     close  \\\n",
       "0  1502323200  0.002180  0.001843  0.001914  7057551.95  13563.00  0.001934   \n",
       "1  1502409600  0.001957  0.001800  0.001934  5449093.37  10170.41  0.001871   \n",
       "2  1502496000  0.001998  0.001745  0.001871  3301406.86   6192.27  0.001854   \n",
       "3  1502582400  0.001883  0.001405  0.001854  6449974.80  11409.45  0.001779   \n",
       "4  1502668800  0.001909  0.001688  0.001779  6337540.17  11084.22  0.001754   \n",
       "\n",
       "  conversionType conversionSymbol  \n",
       "0         direct                   \n",
       "1         direct                   \n",
       "2         direct                   \n",
       "3         direct                   \n",
       "4         direct                   "
      ]
     },
     "execution_count": 21,
     "metadata": {},
     "output_type": "execute_result"
    }
   ],
   "source": [
    "sym = \"DOGE\"\n",
    "cur_sym_df = RetrieveDailyPrice(sym, \"USD\")\n",
    "\n",
    "cur_sym_df.head()"
   ]
  },
  {
   "cell_type": "code",
   "execution_count": 22,
   "id": "237979f9",
   "metadata": {},
   "outputs": [
    {
     "name": "stderr",
     "output_type": "stream",
     "text": [
      "/var/folders/m6/5m5yr4vx1hnfwqqw70nydyqr0000gn/T/ipykernel_39072/2012847471.py:4: SettingWithCopyWarning: \n",
      "A value is trying to be set on a copy of a slice from a DataFrame.\n",
      "Try using .loc[row_indexer,col_indexer] = value instead\n",
      "\n",
      "See the caveats in the documentation: https://pandas.pydata.org/pandas-docs/stable/user_guide/indexing.html#returning-a-view-versus-a-copy\n",
      "  cur_sym_clean_df[\"return\"] = (cur_sym_clean_df[\"close\"] -\n"
     ]
    }
   ],
   "source": [
    "cur_sym_df[\"time\"] = pd.to_datetime(cur_sym_df[\"time\"], unit='s')\n",
    "cur_sym_clean_df = cur_sym_df[[\"time\", \"open\", \"close\", \"low\", \"high\"]]\n",
    "\n",
    "cur_sym_clean_df[\"return\"] = (cur_sym_clean_df[\"close\"] -\n",
    "                              cur_sym_clean_df[\"open\"]) / cur_sym_clean_df[\"open\"]\n",
    "\n",
    "cur_sym_nar_df = cur_sym_clean_df.loc[(cur_sym_clean_df[\"time\"] >= start) &\n",
    "                                      (cur_sym_clean_df[\"time\"] <= end), :]\n",
    "\n",
    "cryp_dict[sym] = [cur_sym_nar_df, cur_sym_nar_df[\"return\"].mean()]"
   ]
  },
  {
   "cell_type": "code",
   "execution_count": 39,
   "id": "6fa50816",
   "metadata": {},
   "outputs": [],
   "source": [
    "# create a dataframe and sort it by descending average daily return\n",
    "# to retrieve the 25 best performing coins for the period of interest\n",
    "avg_ret = [value[1] for value in cryp_dict.values()]\n",
    "\n",
    "hi_ret_df = pd.DataFrame({\"Symbol\" : cryp_dict.keys(), \n",
    "              \"Average Daily Return\" : [value[1] for value in cryp_dict.values()]\n",
    "             }).sort_values(\"Average Daily Return\", ascending=False).reset_index(drop=True).head(25)"
   ]
  },
  {
   "cell_type": "code",
   "execution_count": 43,
   "id": "fa0860f0",
   "metadata": {},
   "outputs": [
    {
     "data": {
      "text/html": [
       "<div>\n",
       "<style scoped>\n",
       "    .dataframe tbody tr th:only-of-type {\n",
       "        vertical-align: middle;\n",
       "    }\n",
       "\n",
       "    .dataframe tbody tr th {\n",
       "        vertical-align: top;\n",
       "    }\n",
       "\n",
       "    .dataframe thead th {\n",
       "        text-align: right;\n",
       "    }\n",
       "</style>\n",
       "<table border=\"1\" class=\"dataframe\">\n",
       "  <thead>\n",
       "    <tr style=\"text-align: right;\">\n",
       "      <th></th>\n",
       "      <th>Symbol</th>\n",
       "      <th>Average Daily Return</th>\n",
       "    </tr>\n",
       "  </thead>\n",
       "  <tbody>\n",
       "    <tr>\n",
       "      <th>0</th>\n",
       "      <td>DOGE</td>\n",
       "      <td>0.011276</td>\n",
       "    </tr>\n",
       "    <tr>\n",
       "      <th>1</th>\n",
       "      <td>BTC</td>\n",
       "      <td>-0.006172</td>\n",
       "    </tr>\n",
       "    <tr>\n",
       "      <th>2</th>\n",
       "      <td>ETH</td>\n",
       "      <td>-0.006217</td>\n",
       "    </tr>\n",
       "  </tbody>\n",
       "</table>\n",
       "</div>"
      ],
      "text/plain": [
       "  Symbol  Average Daily Return\n",
       "0   DOGE              0.011276\n",
       "1    BTC             -0.006172\n",
       "2    ETH             -0.006217"
      ]
     },
     "execution_count": 43,
     "metadata": {},
     "output_type": "execute_result"
    }
   ],
   "source": [
    "hi_ret_df"
   ]
  },
  {
   "cell_type": "code",
   "execution_count": 85,
   "id": "7ab6b73b",
   "metadata": {},
   "outputs": [
    {
     "data": {
      "image/png": "[encoded data removed]",
      "text/plain": [
       "<Figure size 1440x1440 with 25 Axes>"
      ]
     },
     "metadata": {
      "needs_background": "light"
     },
     "output_type": "display_data"
    }
   ],
   "source": [
    "# initiate the figure and axis with 23 subplots in a vertical line\n",
    "fig, ax = plt.subplots(5,5, figsize=(20, 20))\n",
    "\n",
    "i = 0\n",
    "j = 0\n",
    "\n",
    "for sym in hi_ret_df[\"Symbol\"]:\n",
    "    cryp_dict[sym][0]\n",
    "    \n",
    "    ax[i, j].plot(cryp_dict[sym][0][\"time\"], cryp_dict[sym][0][\"high\"])\n",
    "    ax[i, j].plot(cryp_dict[sym][0][\"time\"], cryp_dict[sym][0][\"low\"])\n",
    "    ax[i, j].set_title(sym)\n",
    "    ax[i, j].tick_params(which='both',      # both major and minor ticks are affected\n",
    "                         right=False,\n",
    "                         left=True,\n",
    "                         bottom=True,      # ticks along the bottom edge are off\n",
    "                         top=False,         # ticks along the top edge are off\n",
    "                         labelbottom=False,\n",
    "                         labelleft=False)\n",
    "    \n",
    "    if j < 5:\n",
    "        j += 1\n",
    "    else:\n",
    "        i += 1"
   ]
  },
  {
   "cell_type": "code",
   "execution_count": 86,
   "id": "23dd156c",
   "metadata": {},
   "outputs": [],
   "source": [
    "# close the plots\n",
    "plt.close(\"all\")"
   ]
  },
  {
   "cell_type": "code",
   "execution_count": 103,
   "id": "efc0170b",
   "metadata": {
    "scrolled": true
   },
   "outputs": [
    {
     "data": {
      "application/vnd.plotly.v1+json": {
       "config": {
        "plotlyServerURL": "https://plot.ly"
       },
       "data": [
        {
         "close": [
          0.08387,
          0.1218,
          0.1177,
          0.1269,
          0.1422,
          0.1277,
          0.1226,
          0.1262,
          0.1245,
          0.1149,
          0.1112,
          0.08824,
          0.07421,
          0.08957,
          0.08488,
          0.08803,
          0.08488,
          0.0858,
          0.08694,
          0.08544,
          0.08458,
          0.08461,
          0.08441,
          0.07692,
          0.0746,
          0.07856,
          0.08186,
          0.08142,
          0.08941
         ],
         "high": [
          0.08853,
          0.151,
          0.1436,
          0.1314,
          0.1587,
          0.1479,
          0.137,
          0.1291,
          0.1359,
          0.1276,
          0.119,
          0.1127,
          0.09219,
          0.09387,
          0.093,
          0.09484,
          0.09138,
          0.09117,
          0.08948,
          0.09102,
          0.08722,
          0.08669,
          0.08488,
          0.08573,
          0.07728,
          0.07942,
          0.08339,
          0.08414,
          0.09168
         ],
         "low": [
          0.07252,
          0.0828,
          0.1114,
          0.1139,
          0.1245,
          0.1221,
          0.1197,
          0.1155,
          0.1206,
          0.1121,
          0.1075,
          0.07755,
          0.07035,
          0.07294,
          0.07986,
          0.0783,
          0.08263,
          0.07911,
          0.08475,
          0.0833,
          0.08242,
          0.0835,
          0.08296,
          0.07624,
          0.0712,
          0.07301,
          0.07771,
          0.08045,
          0.08048
         ],
         "open": [
          0.07689,
          0.08387,
          0.1218,
          0.1177,
          0.1269,
          0.1422,
          0.1277,
          0.1226,
          0.1262,
          0.1245,
          0.1149,
          0.1112,
          0.08824,
          0.07421,
          0.08957,
          0.08488,
          0.08803,
          0.08488,
          0.0858,
          0.08694,
          0.08544,
          0.08458,
          0.08461,
          0.08441,
          0.07692,
          0.0746,
          0.07856,
          0.08186,
          0.08142
         ],
         "type": "candlestick",
         "x": [
          "2022-10-28T00:00:00",
          "2022-10-29T00:00:00",
          "2022-10-30T00:00:00",
          "2022-10-31T00:00:00",
          "2022-11-01T00:00:00",
          "2022-11-02T00:00:00",
          "2022-11-03T00:00:00",
          "2022-11-04T00:00:00",
          "2022-11-05T00:00:00",
          "2022-11-06T00:00:00",
          "2022-11-07T00:00:00",
          "2022-11-08T00:00:00",
          "2022-11-09T00:00:00",
          "2022-11-10T00:00:00",
          "2022-11-11T00:00:00",
          "2022-11-12T00:00:00",
          "2022-11-13T00:00:00",
          "2022-11-14T00:00:00",
          "2022-11-15T00:00:00",
          "2022-11-16T00:00:00",
          "2022-11-17T00:00:00",
          "2022-11-18T00:00:00",
          "2022-11-19T00:00:00",
          "2022-11-20T00:00:00",
          "2022-11-21T00:00:00",
          "2022-11-22T00:00:00",
          "2022-11-23T00:00:00",
          "2022-11-24T00:00:00",
          "2022-11-25T00:00:00"
         ],
         "xaxis": "x",
         "yaxis": "y"
        },
        {
         "close": [
          20599.89,
          20820.19,
          20630.65,
          20492.56,
          20480.27,
          20150.33,
          20207.99,
          21150.6,
          21301.57,
          20910.59,
          20593.73,
          18544.7,
          15820.02,
          17559.67,
          17007.72,
          16773.9,
          16307.47,
          16592.04,
          16879.14,
          16648.05,
          16680.21,
          16677.95,
          16683.72,
          16253.6,
          15760.19,
          16198.25,
          16590.98,
          16588.46,
          16508.33
         ],
         "high": [
          20751.67,
          21064.84,
          20936.41,
          20833.31,
          20684.6,
          20801.56,
          20385.92,
          21295.37,
          21471.49,
          21363.27,
          21066.63,
          20672.25,
          18581.64,
          18113.28,
          17644.1,
          17067.53,
          16921.72,
          17157.81,
          17091.76,
          16988.63,
          16731.41,
          16975.14,
          16798.75,
          16730,
          16272.47,
          16277.08,
          16676.49,
          16787.9,
          16605.86
         ],
         "low": [
          20031.32,
          20564.11,
          20523.41,
          20242.91,
          20336.33,
          20061.18,
          20040.32,
          20182.9,
          21085.76,
          20893.65,
          20395.49,
          17452.87,
          15546.97,
          15674.81,
          16383.43,
          16603.78,
          16235.01,
          15797.71,
          16509.15,
          16373.11,
          16405.81,
          16531.77,
          16539.01,
          16169.2,
          15480.69,
          15600.3,
          16144.79,
          16453.52,
          16336.71
         ],
         "open": [
          20295.28,
          20599.89,
          20820.19,
          20630.65,
          20492.56,
          20480.27,
          20150.33,
          20207.99,
          21150.6,
          21301.57,
          20910.59,
          20593.73,
          18544.7,
          15820.02,
          17559.67,
          17007.72,
          16773.9,
          16307.47,
          16592.04,
          16879.14,
          16648.05,
          16680.21,
          16677.95,
          16683.72,
          16253.6,
          15760.19,
          16198.25,
          16590.98,
          16588.46
         ],
         "type": "candlestick",
         "x": [
          "2022-10-28T00:00:00",
          "2022-10-29T00:00:00",
          "2022-10-30T00:00:00",
          "2022-10-31T00:00:00",
          "2022-11-01T00:00:00",
          "2022-11-02T00:00:00",
          "2022-11-03T00:00:00",
          "2022-11-04T00:00:00",
          "2022-11-05T00:00:00",
          "2022-11-06T00:00:00",
          "2022-11-07T00:00:00",
          "2022-11-08T00:00:00",
          "2022-11-09T00:00:00",
          "2022-11-10T00:00:00",
          "2022-11-11T00:00:00",
          "2022-11-12T00:00:00",
          "2022-11-13T00:00:00",
          "2022-11-14T00:00:00",
          "2022-11-15T00:00:00",
          "2022-11-16T00:00:00",
          "2022-11-17T00:00:00",
          "2022-11-18T00:00:00",
          "2022-11-19T00:00:00",
          "2022-11-20T00:00:00",
          "2022-11-21T00:00:00",
          "2022-11-22T00:00:00",
          "2022-11-23T00:00:00",
          "2022-11-24T00:00:00",
          "2022-11-25T00:00:00"
         ],
         "xaxis": "x2",
         "yaxis": "y2"
        },
        {
         "close": [
          1555.12,
          1620.42,
          1590.93,
          1572.88,
          1578.51,
          1518.33,
          1530.87,
          1645.06,
          1627.42,
          1568.75,
          1568.45,
          1334.22,
          1104.17,
          1296.01,
          1285.23,
          1254.95,
          1219.85,
          1241.39,
          1252,
          1215.24,
          1199.45,
          1210.98,
          1216.52,
          1140.47,
          1105.99,
          1137.75,
          1183.69,
          1202.96,
          1198.4
         ],
         "high": [
          1574.67,
          1663.64,
          1640.31,
          1635.53,
          1611.88,
          1620.26,
          1558.59,
          1671.48,
          1665.9,
          1638.76,
          1608.74,
          1579.41,
          1337.05,
          1347.76,
          1306.47,
          1289.04,
          1272.09,
          1288.74,
          1288.55,
          1266.73,
          1227.03,
          1231.6,
          1231.29,
          1225,
          1144.37,
          1140.64,
          1189.1,
          1215.66,
          1205.7
         ],
         "low": [
          1484.12,
          1548.24,
          1577.18,
          1547.97,
          1563.39,
          1502.4,
          1515.32,
          1528.31,
          1621.64,
          1565.49,
          1546.59,
          1250.63,
          1081.28,
          1090.05,
          1200.46,
          1236.27,
          1200.31,
          1170.9,
          1232.81,
          1185.82,
          1181.92,
          1198.2,
          1196.77,
          1130.87,
          1079.94,
          1074.4,
          1126.34,
          1179.27,
          1170.43
         ],
         "open": [
          1514.35,
          1555.12,
          1620.42,
          1590.93,
          1572.88,
          1578.51,
          1518.33,
          1530.87,
          1645.06,
          1627.42,
          1568.75,
          1568.45,
          1334.22,
          1104.17,
          1296.01,
          1285.23,
          1254.95,
          1219.85,
          1241.39,
          1252,
          1215.24,
          1199.45,
          1210.98,
          1216.52,
          1140.47,
          1105.99,
          1137.75,
          1183.69,
          1202.96
         ],
         "type": "candlestick",
         "x": [
          "2022-10-28T00:00:00",
          "2022-10-29T00:00:00",
          "2022-10-30T00:00:00",
          "2022-10-31T00:00:00",
          "2022-11-01T00:00:00",
          "2022-11-02T00:00:00",
          "2022-11-03T00:00:00",
          "2022-11-04T00:00:00",
          "2022-11-05T00:00:00",
          "2022-11-06T00:00:00",
          "2022-11-07T00:00:00",
          "2022-11-08T00:00:00",
          "2022-11-09T00:00:00",
          "2022-11-10T00:00:00",
          "2022-11-11T00:00:00",
          "2022-11-12T00:00:00",
          "2022-11-13T00:00:00",
          "2022-11-14T00:00:00",
          "2022-11-15T00:00:00",
          "2022-11-16T00:00:00",
          "2022-11-17T00:00:00",
          "2022-11-18T00:00:00",
          "2022-11-19T00:00:00",
          "2022-11-20T00:00:00",
          "2022-11-21T00:00:00",
          "2022-11-22T00:00:00",
          "2022-11-23T00:00:00",
          "2022-11-24T00:00:00",
          "2022-11-25T00:00:00"
         ],
         "xaxis": "x3",
         "yaxis": "y3"
        }
       ],
       "layout": {
        "template": {
         "data": {
          "bar": [
           {
            "error_x": {
             "color": "#2a3f5f"
            },
            "error_y": {
             "color": "#2a3f5f"
            },
            "marker": {
             "line": {
              "color": "#E5ECF6",
              "width": 0.5
             },
             "pattern": {
              "fillmode": "overlay",
              "size": 10,
              "solidity": 0.2
             }
            },
            "type": "bar"
           }
          ],
          "barpolar": [
           {
            "marker": {
             "line": {
              "color": "#E5ECF6",
              "width": 0.5
             },
             "pattern": {
              "fillmode": "overlay",
              "size": 10,
              "solidity": 0.2
             }
            },
            "type": "barpolar"
           }
          ],
          "carpet": [
           {
            "aaxis": {
             "endlinecolor": "#2a3f5f",
             "gridcolor": "white",
             "linecolor": "white",
             "minorgridcolor": "white",
             "startlinecolor": "#2a3f5f"
            },
            "baxis": {
             "endlinecolor": "#2a3f5f",
             "gridcolor": "white",
             "linecolor": "white",
             "minorgridcolor": "white",
             "startlinecolor": "#2a3f5f"
            },
            "type": "carpet"
           }
          ],
          "choropleth": [
           {
            "colorbar": {
             "outlinewidth": 0,
             "ticks": ""
            },
            "type": "choropleth"
           }
          ],
          "contour": [
           {
            "colorbar": {
             "outlinewidth": 0,
             "ticks": ""
            },
            "colorscale": [
             [
              0,
              "#0d0887"
             ],
             [
              0.1111111111111111,
              "#46039f"
             ],
             [
              0.2222222222222222,
              "#7201a8"
             ],
             [
              0.3333333333333333,
              "#9c179e"
             ],
             [
              0.4444444444444444,
              "#bd3786"
             ],
             [
              0.5555555555555556,
              "#d8576b"
             ],
             [
              0.6666666666666666,
              "#ed7953"
             ],
             [
              0.7777777777777778,
              "#fb9f3a"
             ],
             [
              0.8888888888888888,
              "#fdca26"
             ],
             [
              1,
              "#f0f921"
             ]
            ],
            "type": "contour"
           }
          ],
          "contourcarpet": [
           {
            "colorbar": {
             "outlinewidth": 0,
             "ticks": ""
            },
            "type": "contourcarpet"
           }
          ],
          "heatmap": [
           {
            "colorbar": {
             "outlinewidth": 0,
             "ticks": ""
            },
            "colorscale": [
             [
              0,
              "#0d0887"
             ],
             [
              0.1111111111111111,
              "#46039f"
             ],
             [
              0.2222222222222222,
              "#7201a8"
             ],
             [
              0.3333333333333333,
              "#9c179e"
             ],
             [
              0.4444444444444444,
              "#bd3786"
             ],
             [
              0.5555555555555556,
              "#d8576b"
             ],
             [
              0.6666666666666666,
              "#ed7953"
             ],
             [
              0.7777777777777778,
              "#fb9f3a"
             ],
             [
              0.8888888888888888,
              "#fdca26"
             ],
             [
              1,
              "#f0f921"
             ]
            ],
            "type": "heatmap"
           }
          ],
          "heatmapgl": [
           {
            "colorbar": {
             "outlinewidth": 0,
             "ticks": ""
            },
            "colorscale": [
             [
              0,
              "#0d0887"
             ],
             [
              0.1111111111111111,
              "#46039f"
             ],
             [
              0.2222222222222222,
              "#7201a8"
             ],
             [
              0.3333333333333333,
              "#9c179e"
             ],
             [
              0.4444444444444444,
              "#bd3786"
             ],
             [
              0.5555555555555556,
              "#d8576b"
             ],
             [
              0.6666666666666666,
              "#ed7953"
             ],
             [
              0.7777777777777778,
              "#fb9f3a"
             ],
             [
              0.8888888888888888,
              "#fdca26"
             ],
             [
              1,
              "#f0f921"
             ]
            ],
            "type": "heatmapgl"
           }
          ],
          "histogram": [
           {
            "marker": {
             "pattern": {
              "fillmode": "overlay",
              "size": 10,
              "solidity": 0.2
             }
            },
            "type": "histogram"
           }
          ],
          "histogram2d": [
           {
            "colorbar": {
             "outlinewidth": 0,
             "ticks": ""
            },
            "colorscale": [
             [
              0,
              "#0d0887"
             ],
             [
              0.1111111111111111,
              "#46039f"
             ],
             [
              0.2222222222222222,
              "#7201a8"
             ],
             [
              0.3333333333333333,
              "#9c179e"
             ],
             [
              0.4444444444444444,
              "#bd3786"
             ],
             [
              0.5555555555555556,
              "#d8576b"
             ],
             [
              0.6666666666666666,
              "#ed7953"
             ],
             [
              0.7777777777777778,
              "#fb9f3a"
             ],
             [
              0.8888888888888888,
              "#fdca26"
             ],
             [
              1,
              "#f0f921"
             ]
            ],
            "type": "histogram2d"
           }
          ],
          "histogram2dcontour": [
           {
            "colorbar": {
             "outlinewidth": 0,
             "ticks": ""
            },
            "colorscale": [
             [
              0,
              "#0d0887"
             ],
             [
              0.1111111111111111,
              "#46039f"
             ],
             [
              0.2222222222222222,
              "#7201a8"
             ],
             [
              0.3333333333333333,
              "#9c179e"
             ],
             [
              0.4444444444444444,
              "#bd3786"
             ],
             [
              0.5555555555555556,
              "#d8576b"
             ],
             [
              0.6666666666666666,
              "#ed7953"
             ],
             [
              0.7777777777777778,
              "#fb9f3a"
             ],
             [
              0.8888888888888888,
              "#fdca26"
             ],
             [
              1,
              "#f0f921"
             ]
            ],
            "type": "histogram2dcontour"
           }
          ],
          "mesh3d": [
           {
            "colorbar": {
             "outlinewidth": 0,
             "ticks": ""
            },
            "type": "mesh3d"
           }
          ],
          "parcoords": [
           {
            "line": {
             "colorbar": {
              "outlinewidth": 0,
              "ticks": ""
             }
            },
            "type": "parcoords"
           }
          ],
          "pie": [
           {
            "automargin": true,
            "type": "pie"
           }
          ],
          "scatter": [
           {
            "marker": {
             "colorbar": {
              "outlinewidth": 0,
              "ticks": ""
             }
            },
            "type": "scatter"
           }
          ],
          "scatter3d": [
           {
            "line": {
             "colorbar": {
              "outlinewidth": 0,
              "ticks": ""
             }
            },
            "marker": {
             "colorbar": {
              "outlinewidth": 0,
              "ticks": ""
             }
            },
            "type": "scatter3d"
           }
          ],
          "scattercarpet": [
           {
            "marker": {
             "colorbar": {
              "outlinewidth": 0,
              "ticks": ""
             }
            },
            "type": "scattercarpet"
           }
          ],
          "scattergeo": [
           {
            "marker": {
             "colorbar": {
              "outlinewidth": 0,
              "ticks": ""
             }
            },
            "type": "scattergeo"
           }
          ],
          "scattergl": [
           {
            "marker": {
             "colorbar": {
              "outlinewidth": 0,
              "ticks": ""
             }
            },
            "type": "scattergl"
           }
          ],
          "scattermapbox": [
           {
            "marker": {
             "colorbar": {
              "outlinewidth": 0,
              "ticks": ""
             }
            },
            "type": "scattermapbox"
           }
          ],
          "scatterpolar": [
           {
            "marker": {
             "colorbar": {
              "outlinewidth": 0,
              "ticks": ""
             }
            },
            "type": "scatterpolar"
           }
          ],
          "scatterpolargl": [
           {
            "marker": {
             "colorbar": {
              "outlinewidth": 0,
              "ticks": ""
             }
            },
            "type": "scatterpolargl"
           }
          ],
          "scatterternary": [
           {
            "marker": {
             "colorbar": {
              "outlinewidth": 0,
              "ticks": ""
             }
            },
            "type": "scatterternary"
           }
          ],
          "surface": [
           {
            "colorbar": {
             "outlinewidth": 0,
             "ticks": ""
            },
            "colorscale": [
             [
              0,
              "#0d0887"
             ],
             [
              0.1111111111111111,
              "#46039f"
             ],
             [
              0.2222222222222222,
              "#7201a8"
             ],
             [
              0.3333333333333333,
              "#9c179e"
             ],
             [
              0.4444444444444444,
              "#bd3786"
             ],
             [
              0.5555555555555556,
              "#d8576b"
             ],
             [
              0.6666666666666666,
              "#ed7953"
             ],
             [
              0.7777777777777778,
              "#fb9f3a"
             ],
             [
              0.8888888888888888,
              "#fdca26"
             ],
             [
              1,
              "#f0f921"
             ]
            ],
            "type": "surface"
           }
          ],
          "table": [
           {
            "cells": {
             "fill": {
              "color": "#EBF0F8"
             },
             "line": {
              "color": "white"
             }
            },
            "header": {
             "fill": {
              "color": "#C8D4E3"
             },
             "line": {
              "color": "white"
             }
            },
            "type": "table"
           }
          ]
         },
         "layout": {
          "annotationdefaults": {
           "arrowcolor": "#2a3f5f",
           "arrowhead": 0,
           "arrowwidth": 1
          },
          "autotypenumbers": "strict",
          "coloraxis": {
           "colorbar": {
            "outlinewidth": 0,
            "ticks": ""
           }
          },
          "colorscale": {
           "diverging": [
            [
             0,
             "#8e0152"
            ],
            [
             0.1,
             "#c51b7d"
            ],
            [
             0.2,
             "#de77ae"
            ],
            [
             0.3,
             "#f1b6da"
            ],
            [
             0.4,
             "#fde0ef"
            ],
            [
             0.5,
             "#f7f7f7"
            ],
            [
             0.6,
             "#e6f5d0"
            ],
            [
             0.7,
             "#b8e186"
            ],
            [
             0.8,
             "#7fbc41"
            ],
            [
             0.9,
             "#4d9221"
            ],
            [
             1,
             "#276419"
            ]
           ],
           "sequential": [
            [
             0,
             "#0d0887"
            ],
            [
             0.1111111111111111,
             "#46039f"
            ],
            [
             0.2222222222222222,
             "#7201a8"
            ],
            [
             0.3333333333333333,
             "#9c179e"
            ],
            [
             0.4444444444444444,
             "#bd3786"
            ],
            [
             0.5555555555555556,
             "#d8576b"
            ],
            [
             0.6666666666666666,
             "#ed7953"
            ],
            [
             0.7777777777777778,
             "#fb9f3a"
            ],
            [
             0.8888888888888888,
             "#fdca26"
            ],
            [
             1,
             "#f0f921"
            ]
           ],
           "sequentialminus": [
            [
             0,
             "#0d0887"
            ],
            [
             0.1111111111111111,
             "#46039f"
            ],
            [
             0.2222222222222222,
             "#7201a8"
            ],
            [
             0.3333333333333333,
             "#9c179e"
            ],
            [
             0.4444444444444444,
             "#bd3786"
            ],
            [
             0.5555555555555556,
             "#d8576b"
            ],
            [
             0.6666666666666666,
             "#ed7953"
            ],
            [
             0.7777777777777778,
             "#fb9f3a"
            ],
            [
             0.8888888888888888,
             "#fdca26"
            ],
            [
             1,
             "#f0f921"
            ]
           ]
          },
          "colorway": [
           "#636efa",
           "#EF553B",
           "#00cc96",
           "#ab63fa",
           "#FFA15A",
           "#19d3f3",
           "#FF6692",
           "#B6E880",
           "#FF97FF",
           "#FECB52"
          ],
          "font": {
           "color": "#2a3f5f"
          },
          "geo": {
           "bgcolor": "white",
           "lakecolor": "white",
           "landcolor": "#E5ECF6",
           "showlakes": true,
           "showland": true,
           "subunitcolor": "white"
          },
          "hoverlabel": {
           "align": "left"
          },
          "hovermode": "closest",
          "mapbox": {
           "style": "light"
          },
          "paper_bgcolor": "white",
          "plot_bgcolor": "#E5ECF6",
          "polar": {
           "angularaxis": {
            "gridcolor": "white",
            "linecolor": "white",
            "ticks": ""
           },
           "bgcolor": "#E5ECF6",
           "radialaxis": {
            "gridcolor": "white",
            "linecolor": "white",
            "ticks": ""
           }
          },
          "scene": {
           "xaxis": {
            "backgroundcolor": "#E5ECF6",
            "gridcolor": "white",
            "gridwidth": 2,
            "linecolor": "white",
            "showbackground": true,
            "ticks": "",
            "zerolinecolor": "white"
           },
           "yaxis": {
            "backgroundcolor": "#E5ECF6",
            "gridcolor": "white",
            "gridwidth": 2,
            "linecolor": "white",
            "showbackground": true,
            "ticks": "",
            "zerolinecolor": "white"
           },
           "zaxis": {
            "backgroundcolor": "#E5ECF6",
            "gridcolor": "white",
            "gridwidth": 2,
            "linecolor": "white",
            "showbackground": true,
            "ticks": "",
            "zerolinecolor": "white"
           }
          },
          "shapedefaults": {
           "line": {
            "color": "#2a3f5f"
           }
          },
          "ternary": {
           "aaxis": {
            "gridcolor": "white",
            "linecolor": "white",
            "ticks": ""
           },
           "baxis": {
            "gridcolor": "white",
            "linecolor": "white",
            "ticks": ""
           },
           "bgcolor": "#E5ECF6",
           "caxis": {
            "gridcolor": "white",
            "linecolor": "white",
            "ticks": ""
           }
          },
          "title": {
           "x": 0.05
          },
          "xaxis": {
           "automargin": true,
           "gridcolor": "white",
           "linecolor": "white",
           "ticks": "",
           "title": {
            "standoff": 15
           },
           "zerolinecolor": "white",
           "zerolinewidth": 2
          },
          "yaxis": {
           "automargin": true,
           "gridcolor": "white",
           "linecolor": "white",
           "ticks": "",
           "title": {
            "standoff": 15
           },
           "zerolinecolor": "white",
           "zerolinewidth": 2
          }
         }
        },
        "xaxis": {
         "anchor": "y",
         "domain": [
          0,
          0.16799999999999998
         ]
        },
        "xaxis10": {
         "anchor": "y10",
         "domain": [
          0.832,
          1
         ]
        },
        "xaxis11": {
         "anchor": "y11",
         "domain": [
          0,
          0.16799999999999998
         ]
        },
        "xaxis12": {
         "anchor": "y12",
         "domain": [
          0.208,
          0.376
         ]
        },
        "xaxis13": {
         "anchor": "y13",
         "domain": [
          0.416,
          0.584
         ]
        },
        "xaxis14": {
         "anchor": "y14",
         "domain": [
          0.624,
          0.792
         ]
        },
        "xaxis15": {
         "anchor": "y15",
         "domain": [
          0.832,
          1
         ]
        },
        "xaxis16": {
         "anchor": "y16",
         "domain": [
          0,
          0.16799999999999998
         ]
        },
        "xaxis17": {
         "anchor": "y17",
         "domain": [
          0.208,
          0.376
         ]
        },
        "xaxis18": {
         "anchor": "y18",
         "domain": [
          0.416,
          0.584
         ]
        },
        "xaxis19": {
         "anchor": "y19",
         "domain": [
          0.624,
          0.792
         ]
        },
        "xaxis2": {
         "anchor": "y2",
         "domain": [
          0.208,
          0.376
         ]
        },
        "xaxis20": {
         "anchor": "y20",
         "domain": [
          0.832,
          1
         ]
        },
        "xaxis21": {
         "anchor": "y21",
         "domain": [
          0,
          0.16799999999999998
         ]
        },
        "xaxis22": {
         "anchor": "y22",
         "domain": [
          0.208,
          0.376
         ]
        },
        "xaxis23": {
         "anchor": "y23",
         "domain": [
          0.416,
          0.584
         ]
        },
        "xaxis24": {
         "anchor": "y24",
         "domain": [
          0.624,
          0.792
         ]
        },
        "xaxis25": {
         "anchor": "y25",
         "domain": [
          0.832,
          1
         ]
        },
        "xaxis3": {
         "anchor": "y3",
         "domain": [
          0.416,
          0.584
         ]
        },
        "xaxis4": {
         "anchor": "y4",
         "domain": [
          0.624,
          0.792
         ]
        },
        "xaxis5": {
         "anchor": "y5",
         "domain": [
          0.832,
          1
         ]
        },
        "xaxis6": {
         "anchor": "y6",
         "domain": [
          0,
          0.16799999999999998
         ]
        },
        "xaxis7": {
         "anchor": "y7",
         "domain": [
          0.208,
          0.376
         ]
        },
        "xaxis8": {
         "anchor": "y8",
         "domain": [
          0.416,
          0.584
         ]
        },
        "xaxis9": {
         "anchor": "y9",
         "domain": [
          0.624,
          0.792
         ]
        },
        "yaxis": {
         "anchor": "x",
         "domain": [
          0.848,
          1
         ]
        },
        "yaxis10": {
         "anchor": "x10",
         "domain": [
          0.6359999999999999,
          0.7879999999999999
         ]
        },
        "yaxis11": {
         "anchor": "x11",
         "domain": [
          0.424,
          0.576
         ]
        },
        "yaxis12": {
         "anchor": "x12",
         "domain": [
          0.424,
          0.576
         ]
        },
        "yaxis13": {
         "anchor": "x13",
         "domain": [
          0.424,
          0.576
         ]
        },
        "yaxis14": {
         "anchor": "x14",
         "domain": [
          0.424,
          0.576
         ]
        },
        "yaxis15": {
         "anchor": "x15",
         "domain": [
          0.424,
          0.576
         ]
        },
        "yaxis16": {
         "anchor": "x16",
         "domain": [
          0.212,
          0.364
         ]
        },
        "yaxis17": {
         "anchor": "x17",
         "domain": [
          0.212,
          0.364
         ]
        },
        "yaxis18": {
         "anchor": "x18",
         "domain": [
          0.212,
          0.364
         ]
        },
        "yaxis19": {
         "anchor": "x19",
         "domain": [
          0.212,
          0.364
         ]
        },
        "yaxis2": {
         "anchor": "x2",
         "domain": [
          0.848,
          1
         ]
        },
        "yaxis20": {
         "anchor": "x20",
         "domain": [
          0.212,
          0.364
         ]
        },
        "yaxis21": {
         "anchor": "x21",
         "domain": [
          0,
          0.152
         ]
        },
        "yaxis22": {
         "anchor": "x22",
         "domain": [
          0,
          0.152
         ]
        },
        "yaxis23": {
         "anchor": "x23",
         "domain": [
          0,
          0.152
         ]
        },
        "yaxis24": {
         "anchor": "x24",
         "domain": [
          0,
          0.152
         ]
        },
        "yaxis25": {
         "anchor": "x25",
         "domain": [
          0,
          0.152
         ]
        },
        "yaxis3": {
         "anchor": "x3",
         "domain": [
          0.848,
          1
         ]
        },
        "yaxis4": {
         "anchor": "x4",
         "domain": [
          0.848,
          1
         ]
        },
        "yaxis5": {
         "anchor": "x5",
         "domain": [
          0.848,
          1
         ]
        },
        "yaxis6": {
         "anchor": "x6",
         "domain": [
          0.6359999999999999,
          0.7879999999999999
         ]
        },
        "yaxis7": {
         "anchor": "x7",
         "domain": [
          0.6359999999999999,
          0.7879999999999999
         ]
        },
        "yaxis8": {
         "anchor": "x8",
         "domain": [
          0.6359999999999999,
          0.7879999999999999
         ]
        },
        "yaxis9": {
         "anchor": "x9",
         "domain": [
          0.6359999999999999,
          0.7879999999999999
         ]
        }
       }
      },
      "text/html": [
       "<div>                            <div id=\"10f65b81-0298-4053-89e0-b2fbc01f20c2\" class=\"plotly-graph-div\" style=\"height:525px; width:100%;\"></div>            <script type=\"text/javascript\">                require([\"plotly\"], function(Plotly) {                    window.PLOTLYENV=window.PLOTLYENV || {};                                    if (document.getElementById(\"10f65b81-0298-4053-89e0-b2fbc01f20c2\")) {                    Plotly.newPlot(                        \"10f65b81-0298-4053-89e0-b2fbc01f20c2\",                        [{\"close\":[0.08387,0.1218,0.1177,0.1269,0.1422,0.1277,0.1226,0.1262,0.1245,0.1149,0.1112,0.08824,0.07421,0.08957,0.08488,0.08803,0.08488,0.0858,0.08694,0.08544,0.08458,0.08461,0.08441,0.07692,0.0746,0.07856,0.08186,0.08142,0.08941],\"high\":[0.08853,0.151,0.1436,0.1314,0.1587,0.1479,0.137,0.1291,0.1359,0.1276,0.119,0.1127,0.09219,0.09387,0.093,0.09484,0.09138,0.09117,0.08948,0.09102,0.08722,0.08669,0.08488,0.08573,0.07728,0.07942,0.08339,0.08414,0.09168],\"low\":[0.07252,0.0828,0.1114,0.1139,0.1245,0.1221,0.1197,0.1155,0.1206,0.1121,0.1075,0.07755,0.07035,0.07294,0.07986,0.0783,0.08263,0.07911,0.08475,0.0833,0.08242,0.0835,0.08296,0.07624,0.0712,0.07301,0.07771,0.08045,0.08048],\"open\":[0.07689,0.08387,0.1218,0.1177,0.1269,0.1422,0.1277,0.1226,0.1262,0.1245,0.1149,0.1112,0.08824,0.07421,0.08957,0.08488,0.08803,0.08488,0.0858,0.08694,0.08544,0.08458,0.08461,0.08441,0.07692,0.0746,0.07856,0.08186,0.08142],\"x\":[\"2022-10-28T00:00:00\",\"2022-10-29T00:00:00\",\"2022-10-30T00:00:00\",\"2022-10-31T00:00:00\",\"2022-11-01T00:00:00\",\"2022-11-02T00:00:00\",\"2022-11-03T00:00:00\",\"2022-11-04T00:00:00\",\"2022-11-05T00:00:00\",\"2022-11-06T00:00:00\",\"2022-11-07T00:00:00\",\"2022-11-08T00:00:00\",\"2022-11-09T00:00:00\",\"2022-11-10T00:00:00\",\"2022-11-11T00:00:00\",\"2022-11-12T00:00:00\",\"2022-11-13T00:00:00\",\"2022-11-14T00:00:00\",\"2022-11-15T00:00:00\",\"2022-11-16T00:00:00\",\"2022-11-17T00:00:00\",\"2022-11-18T00:00:00\",\"2022-11-19T00:00:00\",\"2022-11-20T00:00:00\",\"2022-11-21T00:00:00\",\"2022-11-22T00:00:00\",\"2022-11-23T00:00:00\",\"2022-11-24T00:00:00\",\"2022-11-25T00:00:00\"],\"type\":\"candlestick\",\"xaxis\":\"x\",\"yaxis\":\"y\"},{\"close\":[20599.89,20820.19,20630.65,20492.56,20480.27,20150.33,20207.99,21150.6,21301.57,20910.59,20593.73,18544.7,15820.02,17559.67,17007.72,16773.9,16307.47,16592.04,16879.14,16648.05,16680.21,16677.95,16683.72,16253.6,15760.19,16198.25,16590.98,16588.46,16508.33],\"high\":[20751.67,21064.84,20936.41,20833.31,20684.6,20801.56,20385.92,21295.37,21471.49,21363.27,21066.63,20672.25,18581.64,18113.28,17644.1,17067.53,16921.72,17157.81,17091.76,16988.63,16731.41,16975.14,16798.75,16730.0,16272.47,16277.08,16676.49,16787.9,16605.86],\"low\":[20031.32,20564.11,20523.41,20242.91,20336.33,20061.18,20040.32,20182.9,21085.76,20893.65,20395.49,17452.87,15546.97,15674.81,16383.43,16603.78,16235.01,15797.71,16509.15,16373.11,16405.81,16531.77,16539.01,16169.2,15480.69,15600.3,16144.79,16453.52,16336.71],\"open\":[20295.28,20599.89,20820.19,20630.65,20492.56,20480.27,20150.33,20207.99,21150.6,21301.57,20910.59,20593.73,18544.7,15820.02,17559.67,17007.72,16773.9,16307.47,16592.04,16879.14,16648.05,16680.21,16677.95,16683.72,16253.6,15760.19,16198.25,16590.98,16588.46],\"x\":[\"2022-10-28T00:00:00\",\"2022-10-29T00:00:00\",\"2022-10-30T00:00:00\",\"2022-10-31T00:00:00\",\"2022-11-01T00:00:00\",\"2022-11-02T00:00:00\",\"2022-11-03T00:00:00\",\"2022-11-04T00:00:00\",\"2022-11-05T00:00:00\",\"2022-11-06T00:00:00\",\"2022-11-07T00:00:00\",\"2022-11-08T00:00:00\",\"2022-11-09T00:00:00\",\"2022-11-10T00:00:00\",\"2022-11-11T00:00:00\",\"2022-11-12T00:00:00\",\"2022-11-13T00:00:00\",\"2022-11-14T00:00:00\",\"2022-11-15T00:00:00\",\"2022-11-16T00:00:00\",\"2022-11-17T00:00:00\",\"2022-11-18T00:00:00\",\"2022-11-19T00:00:00\",\"2022-11-20T00:00:00\",\"2022-11-21T00:00:00\",\"2022-11-22T00:00:00\",\"2022-11-23T00:00:00\",\"2022-11-24T00:00:00\",\"2022-11-25T00:00:00\"],\"type\":\"candlestick\",\"xaxis\":\"x2\",\"yaxis\":\"y2\"},{\"close\":[1555.12,1620.42,1590.93,1572.88,1578.51,1518.33,1530.87,1645.06,1627.42,1568.75,1568.45,1334.22,1104.17,1296.01,1285.23,1254.95,1219.85,1241.39,1252.0,1215.24,1199.45,1210.98,1216.52,1140.47,1105.99,1137.75,1183.69,1202.96,1198.4],\"high\":[1574.67,1663.64,1640.31,1635.53,1611.88,1620.26,1558.59,1671.48,1665.9,1638.76,1608.74,1579.41,1337.05,1347.76,1306.47,1289.04,1272.09,1288.74,1288.55,1266.73,1227.03,1231.6,1231.29,1225.0,1144.37,1140.64,1189.1,1215.66,1205.7],\"low\":[1484.12,1548.24,1577.18,1547.97,1563.39,1502.4,1515.32,1528.31,1621.64,1565.49,1546.59,1250.63,1081.28,1090.05,1200.46,1236.27,1200.31,1170.9,1232.81,1185.82,1181.92,1198.2,1196.77,1130.87,1079.94,1074.4,1126.34,1179.27,1170.43],\"open\":[1514.35,1555.12,1620.42,1590.93,1572.88,1578.51,1518.33,1530.87,1645.06,1627.42,1568.75,1568.45,1334.22,1104.17,1296.01,1285.23,1254.95,1219.85,1241.39,1252.0,1215.24,1199.45,1210.98,1216.52,1140.47,1105.99,1137.75,1183.69,1202.96],\"x\":[\"2022-10-28T00:00:00\",\"2022-10-29T00:00:00\",\"2022-10-30T00:00:00\",\"2022-10-31T00:00:00\",\"2022-11-01T00:00:00\",\"2022-11-02T00:00:00\",\"2022-11-03T00:00:00\",\"2022-11-04T00:00:00\",\"2022-11-05T00:00:00\",\"2022-11-06T00:00:00\",\"2022-11-07T00:00:00\",\"2022-11-08T00:00:00\",\"2022-11-09T00:00:00\",\"2022-11-10T00:00:00\",\"2022-11-11T00:00:00\",\"2022-11-12T00:00:00\",\"2022-11-13T00:00:00\",\"2022-11-14T00:00:00\",\"2022-11-15T00:00:00\",\"2022-11-16T00:00:00\",\"2022-11-17T00:00:00\",\"2022-11-18T00:00:00\",\"2022-11-19T00:00:00\",\"2022-11-20T00:00:00\",\"2022-11-21T00:00:00\",\"2022-11-22T00:00:00\",\"2022-11-23T00:00:00\",\"2022-11-24T00:00:00\",\"2022-11-25T00:00:00\"],\"type\":\"candlestick\",\"xaxis\":\"x3\",\"yaxis\":\"y3\"}],                        {\"template\":{\"data\":{\"bar\":[{\"error_x\":{\"color\":\"#2a3f5f\"},\"error_y\":{\"color\":\"#2a3f5f\"},\"marker\":{\"line\":{\"color\":\"#E5ECF6\",\"width\":0.5},\"pattern\":{\"fillmode\":\"overlay\",\"size\":10,\"solidity\":0.2}},\"type\":\"bar\"}],\"barpolar\":[{\"marker\":{\"line\":{\"color\":\"#E5ECF6\",\"width\":0.5},\"pattern\":{\"fillmode\":\"overlay\",\"size\":10,\"solidity\":0.2}},\"type\":\"barpolar\"}],\"carpet\":[{\"aaxis\":{\"endlinecolor\":\"#2a3f5f\",\"gridcolor\":\"white\",\"linecolor\":\"white\",\"minorgridcolor\":\"white\",\"startlinecolor\":\"#2a3f5f\"},\"baxis\":{\"endlinecolor\":\"#2a3f5f\",\"gridcolor\":\"white\",\"linecolor\":\"white\",\"minorgridcolor\":\"white\",\"startlinecolor\":\"#2a3f5f\"},\"type\":\"carpet\"}],\"choropleth\":[{\"colorbar\":{\"outlinewidth\":0,\"ticks\":\"\"},\"type\":\"choropleth\"}],\"contour\":[{\"colorbar\":{\"outlinewidth\":0,\"ticks\":\"\"},\"colorscale\":[[0.0,\"#0d0887\"],[0.1111111111111111,\"#46039f\"],[0.2222222222222222,\"#7201a8\"],[0.3333333333333333,\"#9c179e\"],[0.4444444444444444,\"#bd3786\"],[0.5555555555555556,\"#d8576b\"],[0.6666666666666666,\"#ed7953\"],[0.7777777777777778,\"#fb9f3a\"],[0.8888888888888888,\"#fdca26\"],[1.0,\"#f0f921\"]],\"type\":\"contour\"}],\"contourcarpet\":[{\"colorbar\":{\"outlinewidth\":0,\"ticks\":\"\"},\"type\":\"contourcarpet\"}],\"heatmap\":[{\"colorbar\":{\"outlinewidth\":0,\"ticks\":\"\"},\"colorscale\":[[0.0,\"#0d0887\"],[0.1111111111111111,\"#46039f\"],[0.2222222222222222,\"#7201a8\"],[0.3333333333333333,\"#9c179e\"],[0.4444444444444444,\"#bd3786\"],[0.5555555555555556,\"#d8576b\"],[0.6666666666666666,\"#ed7953\"],[0.7777777777777778,\"#fb9f3a\"],[0.8888888888888888,\"#fdca26\"],[1.0,\"#f0f921\"]],\"type\":\"heatmap\"}],\"heatmapgl\":[{\"colorbar\":{\"outlinewidth\":0,\"ticks\":\"\"},\"colorscale\":[[0.0,\"#0d0887\"],[0.1111111111111111,\"#46039f\"],[0.2222222222222222,\"#7201a8\"],[0.3333333333333333,\"#9c179e\"],[0.4444444444444444,\"#bd3786\"],[0.5555555555555556,\"#d8576b\"],[0.6666666666666666,\"#ed7953\"],[0.7777777777777778,\"#fb9f3a\"],[0.8888888888888888,\"#fdca26\"],[1.0,\"#f0f921\"]],\"type\":\"heatmapgl\"}],\"histogram\":[{\"marker\":{\"pattern\":{\"fillmode\":\"overlay\",\"size\":10,\"solidity\":0.2}},\"type\":\"histogram\"}],\"histogram2d\":[{\"colorbar\":{\"outlinewidth\":0,\"ticks\":\"\"},\"colorscale\":[[0.0,\"#0d0887\"],[0.1111111111111111,\"#46039f\"],[0.2222222222222222,\"#7201a8\"],[0.3333333333333333,\"#9c179e\"],[0.4444444444444444,\"#bd3786\"],[0.5555555555555556,\"#d8576b\"],[0.6666666666666666,\"#ed7953\"],[0.7777777777777778,\"#fb9f3a\"],[0.8888888888888888,\"#fdca26\"],[1.0,\"#f0f921\"]],\"type\":\"histogram2d\"}],\"histogram2dcontour\":[{\"colorbar\":{\"outlinewidth\":0,\"ticks\":\"\"},\"colorscale\":[[0.0,\"#0d0887\"],[0.1111111111111111,\"#46039f\"],[0.2222222222222222,\"#7201a8\"],[0.3333333333333333,\"#9c179e\"],[0.4444444444444444,\"#bd3786\"],[0.5555555555555556,\"#d8576b\"],[0.6666666666666666,\"#ed7953\"],[0.7777777777777778,\"#fb9f3a\"],[0.8888888888888888,\"#fdca26\"],[1.0,\"#f0f921\"]],\"type\":\"histogram2dcontour\"}],\"mesh3d\":[{\"colorbar\":{\"outlinewidth\":0,\"ticks\":\"\"},\"type\":\"mesh3d\"}],\"parcoords\":[{\"line\":{\"colorbar\":{\"outlinewidth\":0,\"ticks\":\"\"}},\"type\":\"parcoords\"}],\"pie\":[{\"automargin\":true,\"type\":\"pie\"}],\"scatter\":[{\"marker\":{\"colorbar\":{\"outlinewidth\":0,\"ticks\":\"\"}},\"type\":\"scatter\"}],\"scatter3d\":[{\"line\":{\"colorbar\":{\"outlinewidth\":0,\"ticks\":\"\"}},\"marker\":{\"colorbar\":{\"outlinewidth\":0,\"ticks\":\"\"}},\"type\":\"scatter3d\"}],\"scattercarpet\":[{\"marker\":{\"colorbar\":{\"outlinewidth\":0,\"ticks\":\"\"}},\"type\":\"scattercarpet\"}],\"scattergeo\":[{\"marker\":{\"colorbar\":{\"outlinewidth\":0,\"ticks\":\"\"}},\"type\":\"scattergeo\"}],\"scattergl\":[{\"marker\":{\"colorbar\":{\"outlinewidth\":0,\"ticks\":\"\"}},\"type\":\"scattergl\"}],\"scattermapbox\":[{\"marker\":{\"colorbar\":{\"outlinewidth\":0,\"ticks\":\"\"}},\"type\":\"scattermapbox\"}],\"scatterpolar\":[{\"marker\":{\"colorbar\":{\"outlinewidth\":0,\"ticks\":\"\"}},\"type\":\"scatterpolar\"}],\"scatterpolargl\":[{\"marker\":{\"colorbar\":{\"outlinewidth\":0,\"ticks\":\"\"}},\"type\":\"scatterpolargl\"}],\"scatterternary\":[{\"marker\":{\"colorbar\":{\"outlinewidth\":0,\"ticks\":\"\"}},\"type\":\"scatterternary\"}],\"surface\":[{\"colorbar\":{\"outlinewidth\":0,\"ticks\":\"\"},\"colorscale\":[[0.0,\"#0d0887\"],[0.1111111111111111,\"#46039f\"],[0.2222222222222222,\"#7201a8\"],[0.3333333333333333,\"#9c179e\"],[0.4444444444444444,\"#bd3786\"],[0.5555555555555556,\"#d8576b\"],[0.6666666666666666,\"#ed7953\"],[0.7777777777777778,\"#fb9f3a\"],[0.8888888888888888,\"#fdca26\"],[1.0,\"#f0f921\"]],\"type\":\"surface\"}],\"table\":[{\"cells\":{\"fill\":{\"color\":\"#EBF0F8\"},\"line\":{\"color\":\"white\"}},\"header\":{\"fill\":{\"color\":\"#C8D4E3\"},\"line\":{\"color\":\"white\"}},\"type\":\"table\"}]},\"layout\":{\"annotationdefaults\":{\"arrowcolor\":\"#2a3f5f\",\"arrowhead\":0,\"arrowwidth\":1},\"autotypenumbers\":\"strict\",\"coloraxis\":{\"colorbar\":{\"outlinewidth\":0,\"ticks\":\"\"}},\"colorscale\":{\"diverging\":[[0,\"#8e0152\"],[0.1,\"#c51b7d\"],[0.2,\"#de77ae\"],[0.3,\"#f1b6da\"],[0.4,\"#fde0ef\"],[0.5,\"#f7f7f7\"],[0.6,\"#e6f5d0\"],[0.7,\"#b8e186\"],[0.8,\"#7fbc41\"],[0.9,\"#4d9221\"],[1,\"#276419\"]],\"sequential\":[[0.0,\"#0d0887\"],[0.1111111111111111,\"#46039f\"],[0.2222222222222222,\"#7201a8\"],[0.3333333333333333,\"#9c179e\"],[0.4444444444444444,\"#bd3786\"],[0.5555555555555556,\"#d8576b\"],[0.6666666666666666,\"#ed7953\"],[0.7777777777777778,\"#fb9f3a\"],[0.8888888888888888,\"#fdca26\"],[1.0,\"#f0f921\"]],\"sequentialminus\":[[0.0,\"#0d0887\"],[0.1111111111111111,\"#46039f\"],[0.2222222222222222,\"#7201a8\"],[0.3333333333333333,\"#9c179e\"],[0.4444444444444444,\"#bd3786\"],[0.5555555555555556,\"#d8576b\"],[0.6666666666666666,\"#ed7953\"],[0.7777777777777778,\"#fb9f3a\"],[0.8888888888888888,\"#fdca26\"],[1.0,\"#f0f921\"]]},\"colorway\":[\"#636efa\",\"#EF553B\",\"#00cc96\",\"#ab63fa\",\"#FFA15A\",\"#19d3f3\",\"#FF6692\",\"#B6E880\",\"#FF97FF\",\"#FECB52\"],\"font\":{\"color\":\"#2a3f5f\"},\"geo\":{\"bgcolor\":\"white\",\"lakecolor\":\"white\",\"landcolor\":\"#E5ECF6\",\"showlakes\":true,\"showland\":true,\"subunitcolor\":\"white\"},\"hoverlabel\":{\"align\":\"left\"},\"hovermode\":\"closest\",\"mapbox\":{\"style\":\"light\"},\"paper_bgcolor\":\"white\",\"plot_bgcolor\":\"#E5ECF6\",\"polar\":{\"angularaxis\":{\"gridcolor\":\"white\",\"linecolor\":\"white\",\"ticks\":\"\"},\"bgcolor\":\"#E5ECF6\",\"radialaxis\":{\"gridcolor\":\"white\",\"linecolor\":\"white\",\"ticks\":\"\"}},\"scene\":{\"xaxis\":{\"backgroundcolor\":\"#E5ECF6\",\"gridcolor\":\"white\",\"gridwidth\":2,\"linecolor\":\"white\",\"showbackground\":true,\"ticks\":\"\",\"zerolinecolor\":\"white\"},\"yaxis\":{\"backgroundcolor\":\"#E5ECF6\",\"gridcolor\":\"white\",\"gridwidth\":2,\"linecolor\":\"white\",\"showbackground\":true,\"ticks\":\"\",\"zerolinecolor\":\"white\"},\"zaxis\":{\"backgroundcolor\":\"#E5ECF6\",\"gridcolor\":\"white\",\"gridwidth\":2,\"linecolor\":\"white\",\"showbackground\":true,\"ticks\":\"\",\"zerolinecolor\":\"white\"}},\"shapedefaults\":{\"line\":{\"color\":\"#2a3f5f\"}},\"ternary\":{\"aaxis\":{\"gridcolor\":\"white\",\"linecolor\":\"white\",\"ticks\":\"\"},\"baxis\":{\"gridcolor\":\"white\",\"linecolor\":\"white\",\"ticks\":\"\"},\"bgcolor\":\"#E5ECF6\",\"caxis\":{\"gridcolor\":\"white\",\"linecolor\":\"white\",\"ticks\":\"\"}},\"title\":{\"x\":0.05},\"xaxis\":{\"automargin\":true,\"gridcolor\":\"white\",\"linecolor\":\"white\",\"ticks\":\"\",\"title\":{\"standoff\":15},\"zerolinecolor\":\"white\",\"zerolinewidth\":2},\"yaxis\":{\"automargin\":true,\"gridcolor\":\"white\",\"linecolor\":\"white\",\"ticks\":\"\",\"title\":{\"standoff\":15},\"zerolinecolor\":\"white\",\"zerolinewidth\":2}}},\"xaxis\":{\"anchor\":\"y\",\"domain\":[0.0,0.16799999999999998]},\"yaxis\":{\"anchor\":\"x\",\"domain\":[0.848,1.0]},\"xaxis2\":{\"anchor\":\"y2\",\"domain\":[0.208,0.376]},\"yaxis2\":{\"anchor\":\"x2\",\"domain\":[0.848,1.0]},\"xaxis3\":{\"anchor\":\"y3\",\"domain\":[0.416,0.584]},\"yaxis3\":{\"anchor\":\"x3\",\"domain\":[0.848,1.0]},\"xaxis4\":{\"anchor\":\"y4\",\"domain\":[0.624,0.792]},\"yaxis4\":{\"anchor\":\"x4\",\"domain\":[0.848,1.0]},\"xaxis5\":{\"anchor\":\"y5\",\"domain\":[0.832,1.0]},\"yaxis5\":{\"anchor\":\"x5\",\"domain\":[0.848,1.0]},\"xaxis6\":{\"anchor\":\"y6\",\"domain\":[0.0,0.16799999999999998]},\"yaxis6\":{\"anchor\":\"x6\",\"domain\":[0.6359999999999999,0.7879999999999999]},\"xaxis7\":{\"anchor\":\"y7\",\"domain\":[0.208,0.376]},\"yaxis7\":{\"anchor\":\"x7\",\"domain\":[0.6359999999999999,0.7879999999999999]},\"xaxis8\":{\"anchor\":\"y8\",\"domain\":[0.416,0.584]},\"yaxis8\":{\"anchor\":\"x8\",\"domain\":[0.6359999999999999,0.7879999999999999]},\"xaxis9\":{\"anchor\":\"y9\",\"domain\":[0.624,0.792]},\"yaxis9\":{\"anchor\":\"x9\",\"domain\":[0.6359999999999999,0.7879999999999999]},\"xaxis10\":{\"anchor\":\"y10\",\"domain\":[0.832,1.0]},\"yaxis10\":{\"anchor\":\"x10\",\"domain\":[0.6359999999999999,0.7879999999999999]},\"xaxis11\":{\"anchor\":\"y11\",\"domain\":[0.0,0.16799999999999998]},\"yaxis11\":{\"anchor\":\"x11\",\"domain\":[0.424,0.576]},\"xaxis12\":{\"anchor\":\"y12\",\"domain\":[0.208,0.376]},\"yaxis12\":{\"anchor\":\"x12\",\"domain\":[0.424,0.576]},\"xaxis13\":{\"anchor\":\"y13\",\"domain\":[0.416,0.584]},\"yaxis13\":{\"anchor\":\"x13\",\"domain\":[0.424,0.576]},\"xaxis14\":{\"anchor\":\"y14\",\"domain\":[0.624,0.792]},\"yaxis14\":{\"anchor\":\"x14\",\"domain\":[0.424,0.576]},\"xaxis15\":{\"anchor\":\"y15\",\"domain\":[0.832,1.0]},\"yaxis15\":{\"anchor\":\"x15\",\"domain\":[0.424,0.576]},\"xaxis16\":{\"anchor\":\"y16\",\"domain\":[0.0,0.16799999999999998]},\"yaxis16\":{\"anchor\":\"x16\",\"domain\":[0.212,0.364]},\"xaxis17\":{\"anchor\":\"y17\",\"domain\":[0.208,0.376]},\"yaxis17\":{\"anchor\":\"x17\",\"domain\":[0.212,0.364]},\"xaxis18\":{\"anchor\":\"y18\",\"domain\":[0.416,0.584]},\"yaxis18\":{\"anchor\":\"x18\",\"domain\":[0.212,0.364]},\"xaxis19\":{\"anchor\":\"y19\",\"domain\":[0.624,0.792]},\"yaxis19\":{\"anchor\":\"x19\",\"domain\":[0.212,0.364]},\"xaxis20\":{\"anchor\":\"y20\",\"domain\":[0.832,1.0]},\"yaxis20\":{\"anchor\":\"x20\",\"domain\":[0.212,0.364]},\"xaxis21\":{\"anchor\":\"y21\",\"domain\":[0.0,0.16799999999999998]},\"yaxis21\":{\"anchor\":\"x21\",\"domain\":[0.0,0.152]},\"xaxis22\":{\"anchor\":\"y22\",\"domain\":[0.208,0.376]},\"yaxis22\":{\"anchor\":\"x22\",\"domain\":[0.0,0.152]},\"xaxis23\":{\"anchor\":\"y23\",\"domain\":[0.416,0.584]},\"yaxis23\":{\"anchor\":\"x23\",\"domain\":[0.0,0.152]},\"xaxis24\":{\"anchor\":\"y24\",\"domain\":[0.624,0.792]},\"yaxis24\":{\"anchor\":\"x24\",\"domain\":[0.0,0.152]},\"xaxis25\":{\"anchor\":\"y25\",\"domain\":[0.832,1.0]},\"yaxis25\":{\"anchor\":\"x25\",\"domain\":[0.0,0.152]}},                        {\"responsive\": true}                    ).then(function(){\n",
       "                            \n",
       "var gd = document.getElementById('10f65b81-0298-4053-89e0-b2fbc01f20c2');\n",
       "var x = new MutationObserver(function (mutations, observer) {{\n",
       "        var display = window.getComputedStyle(gd).display;\n",
       "        if (!display || display === 'none') {{\n",
       "            console.log([gd, 'removed!']);\n",
       "            Plotly.purge(gd);\n",
       "            observer.disconnect();\n",
       "        }}\n",
       "}});\n",
       "\n",
       "// Listen for the removal of the full notebook cells\n",
       "var notebookContainer = gd.closest('#notebook-container');\n",
       "if (notebookContainer) {{\n",
       "    x.observe(notebookContainer, {childList: true});\n",
       "}}\n",
       "\n",
       "// Listen for the clearing of the current output cell\n",
       "var outputEl = gd.closest('.output');\n",
       "if (outputEl) {{\n",
       "    x.observe(outputEl, {childList: true});\n",
       "}}\n",
       "\n",
       "                        })                };                });            </script>        </div>"
      ]
     },
     "metadata": {},
     "output_type": "display_data"
    }
   ],
   "source": [
    "fig = make_subplots(rows=5, cols=5, start_cell=\"top-left\")\n",
    "\n",
    "i = 1\n",
    "j = 1\n",
    "\n",
    "for sym in hi_ret_df[\"Symbol\"]:\n",
    "    \n",
    "    fig.add_trace(go.Candlestick(x=cryp_dict[sym][0][\"time\"],\n",
    "                                 open=cryp_dict[sym][0][\"open\"], high=cryp_dict[sym][0][\"high\"],\n",
    "                                 low=cryp_dict[sym][0][\"low\"], close=cryp_dict[sym][0][\"close\"]),\n",
    "                  row=i, col=j)\n",
    "    \n",
    "    if j < 5:\n",
    "        j += 1\n",
    "    else:\n",
    "        i += 1\n",
    "\n",
    "fig"
   ]
  },
  {
   "cell_type": "code",
   "execution_count": null,
   "id": "58b7af78",
   "metadata": {},
   "outputs": [],
   "source": [
    "fig = go.Figure(data=[go.Candlestick(x=df['Date'],\n",
    "                open=df['AAPL.Open'], high=df['AAPL.High'],\n",
    "                low=df['AAPL.Low'], close=df['AAPL.Close'])\n",
    "                     ])\n",
    "\n",
    "fig.update_layout(xaxis_rangeslider_visible=False)\n",
    "fig.show()"
   ]
  },
  {
   "cell_type": "code",
   "execution_count": null,
   "id": "555f1843",
   "metadata": {},
   "outputs": [],
   "source": [
    "sns.set_theme(style=\"white\")"
   ]
  }
 ],
 "metadata": {
  "kernelspec": {
   "display_name": "Python 3 (ipykernel)",
   "language": "python",
   "name": "python3"
  },
  "language_info": {
   "codemirror_mode": {
    "name": "ipython",
    "version": 3
   },
   "file_extension": ".py",
   "mimetype": "text/x-python",
   "name": "python",
   "nbconvert_exporter": "python",
   "pygments_lexer": "ipython3",
   "version": "3.9.12"
  }
 },
 "nbformat": 4,
 "nbformat_minor": 5
}
