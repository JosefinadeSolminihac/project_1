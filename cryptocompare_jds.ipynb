{
 "cells": [
  {
   "cell_type": "code",
   "execution_count": 330,
   "id": "21011f6f",
   "metadata": {},
   "outputs": [],
   "source": [
    "#Dependencies\n",
    "import matplotlib.pyplot as plt\n",
    "import numpy as np\n",
    "import pandas as pd\n",
    "import requests\n",
    "import json\n",
    "from config import api_key"
   ]
  },
  {
   "cell_type": "code",
   "execution_count": 331,
   "id": "37f624d0",
   "metadata": {},
   "outputs": [],
   "source": [
    "#Build the url\n",
    "urlmktcap=f\"https://min-api.cryptocompare.com/data/top/mktcapfull?limit=10&tsym=USD&api_key={api_key}\"\n",
    "urlvolume=\"https://min-api.cryptocompare.com/data/top/totalvolfull?limit=10&tsym=USD&api_key={api_key}\""
   ]
  },
  {
   "cell_type": "code",
   "execution_count": 332,
   "id": "d50ccd05",
   "metadata": {},
   "outputs": [],
   "source": [
    "#Get the information with json format, and isolates data items for easy reading\n",
    "responsemktcap=requests.get(urlmktcap).json()\n",
    "datamktcap=response[\"Data\"]\n",
    "#data"
   ]
  },
  {
   "cell_type": "code",
   "execution_count": 333,
   "id": "bd7106a3",
   "metadata": {},
   "outputs": [],
   "source": [
    "#Obtain the names of the top 10 main currencies considering Market Capitalization. Create a list for the name, price and mktcap for each cryptocurrencies in the top 10. \n",
    "indexes=range(0,10)\n",
    "name_mktcap_list=[]\n",
    "price_mktcap_list=[]\n",
    "mktcap_list=[]\n",
    "for index in indexes:\n",
    "    name=data[index][\"CoinInfo\"][\"FullName\"]\n",
    "    price=data[index][\"RAW\"][\"USD\"][\"PRICE\"]\n",
    "    mktcap=data[index][\"RAW\"][\"USD\"]['MKTCAP']\n",
    "    name_mktcap_list.append(name)\n",
    "    price_mktcap_list.append(price)\n",
    "    mktcap_list.append(mktcap)"
   ]
  },
  {
   "cell_type": "code",
   "execution_count": 334,
   "id": "26538039",
   "metadata": {},
   "outputs": [],
   "source": [
    "#Create a DataFrame with the information\n",
    "mktcap_df1=pd.DataFrame({\n",
    "    \"Cryptocurrency\":name_mktcap_list,\n",
    "    \"Price\":price_mktcap_list,\n",
    "    \"Market Capitalization\":mktcap_list\n",
    "})"
   ]
  },
  {
   "cell_type": "code",
   "execution_count": 335,
   "id": "22073650",
   "metadata": {},
   "outputs": [
    {
     "data": {
      "text/html": [
       "<div>\n",
       "<style scoped>\n",
       "    .dataframe tbody tr th:only-of-type {\n",
       "        vertical-align: middle;\n",
       "    }\n",
       "\n",
       "    .dataframe tbody tr th {\n",
       "        vertical-align: top;\n",
       "    }\n",
       "\n",
       "    .dataframe thead th {\n",
       "        text-align: right;\n",
       "    }\n",
       "</style>\n",
       "<table border=\"1\" class=\"dataframe\">\n",
       "  <thead>\n",
       "    <tr style=\"text-align: right;\">\n",
       "      <th></th>\n",
       "      <th>Cryptocurrency</th>\n",
       "      <th>Price</th>\n",
       "      <th>Market Capitalization</th>\n",
       "    </tr>\n",
       "  </thead>\n",
       "  <tbody>\n",
       "    <tr>\n",
       "      <th>0</th>\n",
       "      <td>Bitcoin</td>\n",
       "      <td>$23,711.54</td>\n",
       "      <td>$457,075,334,829.22</td>\n",
       "    </tr>\n",
       "    <tr>\n",
       "      <th>1</th>\n",
       "      <td>Ethereum</td>\n",
       "      <td>$1,636.44</td>\n",
       "      <td>$200,257,489,633.46</td>\n",
       "    </tr>\n",
       "    <tr>\n",
       "      <th>2</th>\n",
       "      <td>Tether</td>\n",
       "      <td>$1.00</td>\n",
       "      <td>$67,620,214,772.91</td>\n",
       "    </tr>\n",
       "    <tr>\n",
       "      <th>3</th>\n",
       "      <td>Binance Coin</td>\n",
       "      <td>$317.39</td>\n",
       "      <td>$51,822,478,977.82</td>\n",
       "    </tr>\n",
       "    <tr>\n",
       "      <th>4</th>\n",
       "      <td>USD Coin</td>\n",
       "      <td>$1.00</td>\n",
       "      <td>$43,081,726,603.72</td>\n",
       "    </tr>\n",
       "    <tr>\n",
       "      <th>5</th>\n",
       "      <td>XRP</td>\n",
       "      <td>$0.41</td>\n",
       "      <td>$41,285,515,985.69</td>\n",
       "    </tr>\n",
       "    <tr>\n",
       "      <th>6</th>\n",
       "      <td>Aptos</td>\n",
       "      <td>$17.89</td>\n",
       "      <td>$18,199,045,684.89</td>\n",
       "    </tr>\n",
       "    <tr>\n",
       "      <th>7</th>\n",
       "      <td>BUSD</td>\n",
       "      <td>$1.00</td>\n",
       "      <td>$15,704,383,603.88</td>\n",
       "    </tr>\n",
       "    <tr>\n",
       "      <th>8</th>\n",
       "      <td>Solana</td>\n",
       "      <td>$26.21</td>\n",
       "      <td>$14,145,150,827.70</td>\n",
       "    </tr>\n",
       "    <tr>\n",
       "      <th>9</th>\n",
       "      <td>Cardano</td>\n",
       "      <td>$0.39</td>\n",
       "      <td>$13,386,314,436.47</td>\n",
       "    </tr>\n",
       "  </tbody>\n",
       "</table>\n",
       "</div>"
      ],
      "text/plain": [
       "  Cryptocurrency       Price Market Capitalization\n",
       "0        Bitcoin  $23,711.54   $457,075,334,829.22\n",
       "1       Ethereum   $1,636.44   $200,257,489,633.46\n",
       "2         Tether       $1.00    $67,620,214,772.91\n",
       "3   Binance Coin     $317.39    $51,822,478,977.82\n",
       "4       USD Coin       $1.00    $43,081,726,603.72\n",
       "5            XRP       $0.41    $41,285,515,985.69\n",
       "6          Aptos      $17.89    $18,199,045,684.89\n",
       "7           BUSD       $1.00    $15,704,383,603.88\n",
       "8         Solana      $26.21    $14,145,150,827.70\n",
       "9        Cardano       $0.39    $13,386,314,436.47"
      ]
     },
     "execution_count": 335,
     "metadata": {},
     "output_type": "execute_result"
    }
   ],
   "source": [
    "#Format the columns\n",
    "mktcap_df1[\"Price\"] = mktcap_df[\"Price\"].map(\"${:,.2f}\".format)\n",
    "mktcap_df1[\"Market Capitalization\"] = mktcap_df[\"Market Capitalization\"].map(\"${:,.2f}\".format)\n",
    "mktcap_df1"
   ]
  },
  {
   "cell_type": "code",
   "execution_count": 338,
   "id": "9a3952cd",
   "metadata": {},
   "outputs": [
    {
     "data": {
      "text/plain": [
       "<function matplotlib.pyplot.show(close=None, block=None)>"
      ]
     },
     "execution_count": 338,
     "metadata": {},
     "output_type": "execute_result"
    },
    {
     "data": {
      "image/png": "[encoded data removed]",
      "text/plain": [
       "<Figure size 640x480 with 1 Axes>"
      ]
     },
     "metadata": {},
     "output_type": "display_data"
    }
   ],
   "source": [
    "#Present the information in a Pie chart; with the objective of visualize the relative size of each cryptocurrency's market capitalization.\n",
    "mktcap_df=pd.DataFrame({\n",
    "    \"Cryptocurrency\":name_mktcap_list,\n",
    "    \"Price\":price_mktcap_list,\n",
    "    \"Market Capitalization\":mktcap_list\n",
    "})\n",
    "colors = [\"yellow\",\"green\",\"blue\",\"orange\",\"red\",\"purple\",\"pink\",\"black\",\"lightskyblue\"]\n",
    "plt.pie(mktcap_df[\"Market Capitalization\"], labels=volume_df[\"Cryptocurrency\"], colors=colors,\n",
    "        autopct=\"%1.1f%%\")\n",
    "# Save an image of the chart and print the final product to the screen\n",
    "plt.savefig(\"Images/PieMktCap.png\")\n",
    "plt.show"
   ]
  },
  {
   "cell_type": "code",
   "execution_count": 299,
   "id": "188be46b",
   "metadata": {},
   "outputs": [],
   "source": [
    "#Get the information with json format, and isolates data items for easy reading\n",
    "responsevolume=requests.get(urlvolume).json()\n",
    "datavolume=responsevolume[\"Data\"]\n",
    "#datavolume"
   ]
  },
  {
   "cell_type": "code",
   "execution_count": 321,
   "id": "340e69c0",
   "metadata": {},
   "outputs": [],
   "source": [
    "#Obtain the names of the top 10 main currencies considering 24-hour trading volume. Create a list for the name, price and mktcap for each cryptocurrencies in the top 10. \n",
    "indexes=range(0,10)\n",
    "name_volume_list=[]\n",
    "price_volume_list=[]\n",
    "volume_list=[]\n",
    "for index in indexes:\n",
    "    name_v=data[index][\"CoinInfo\"][\"FullName\"]\n",
    "    price_v=data[index][\"RAW\"][\"USD\"][\"PRICE\"]\n",
    "    volume=data[index][\"RAW\"][\"USD\"]['VOLUME24HOUR']\n",
    "    name_volume_list.append(name_v)\n",
    "    price_volume_list.append(price_v)\n",
    "    volume_list.append(volume)\n"
   ]
  },
  {
   "cell_type": "code",
   "execution_count": 322,
   "id": "09e94ae2",
   "metadata": {},
   "outputs": [],
   "source": [
    "#Create a DataFrame with the information\n",
    "volume_df1=pd.DataFrame({\n",
    "    \"Cryptocurrency\":name_mktcap_list,\n",
    "    \"Price\":price_mktcap_list,\n",
    "    \"Volume\":volume_list\n",
    "})"
   ]
  },
  {
   "cell_type": "code",
   "execution_count": 325,
   "id": "ba33a456",
   "metadata": {},
   "outputs": [
    {
     "data": {
      "text/html": [
       "<div>\n",
       "<style scoped>\n",
       "    .dataframe tbody tr th:only-of-type {\n",
       "        vertical-align: middle;\n",
       "    }\n",
       "\n",
       "    .dataframe tbody tr th {\n",
       "        vertical-align: top;\n",
       "    }\n",
       "\n",
       "    .dataframe thead th {\n",
       "        text-align: right;\n",
       "    }\n",
       "</style>\n",
       "<table border=\"1\" class=\"dataframe\">\n",
       "  <thead>\n",
       "    <tr style=\"text-align: right;\">\n",
       "      <th></th>\n",
       "      <th>Cryptocurrency</th>\n",
       "      <th>Price</th>\n",
       "      <th>Volume</th>\n",
       "    </tr>\n",
       "  </thead>\n",
       "  <tbody>\n",
       "    <tr>\n",
       "      <th>0</th>\n",
       "      <td>Bitcoin</td>\n",
       "      <td>$23,711.54</td>\n",
       "      <td>54,118.93</td>\n",
       "    </tr>\n",
       "    <tr>\n",
       "      <th>1</th>\n",
       "      <td>Ethereum</td>\n",
       "      <td>$1,636.44</td>\n",
       "      <td>473,418.44</td>\n",
       "    </tr>\n",
       "    <tr>\n",
       "      <th>2</th>\n",
       "      <td>Tether</td>\n",
       "      <td>$1.00</td>\n",
       "      <td>113,550,488.54</td>\n",
       "    </tr>\n",
       "    <tr>\n",
       "      <th>3</th>\n",
       "      <td>Binance Coin</td>\n",
       "      <td>$317.39</td>\n",
       "      <td>42,611.16</td>\n",
       "    </tr>\n",
       "    <tr>\n",
       "      <th>4</th>\n",
       "      <td>USD Coin</td>\n",
       "      <td>$1.00</td>\n",
       "      <td>6,505,939.91</td>\n",
       "    </tr>\n",
       "    <tr>\n",
       "      <th>5</th>\n",
       "      <td>XRP</td>\n",
       "      <td>$0.41</td>\n",
       "      <td>22,546,801.27</td>\n",
       "    </tr>\n",
       "    <tr>\n",
       "      <th>6</th>\n",
       "      <td>Aptos</td>\n",
       "      <td>$17.89</td>\n",
       "      <td>622,322.24</td>\n",
       "    </tr>\n",
       "    <tr>\n",
       "      <th>7</th>\n",
       "      <td>BUSD</td>\n",
       "      <td>$1.00</td>\n",
       "      <td>965,923.80</td>\n",
       "    </tr>\n",
       "    <tr>\n",
       "      <th>8</th>\n",
       "      <td>Solana</td>\n",
       "      <td>$26.21</td>\n",
       "      <td>3,767,672.08</td>\n",
       "    </tr>\n",
       "    <tr>\n",
       "      <th>9</th>\n",
       "      <td>Cardano</td>\n",
       "      <td>$0.39</td>\n",
       "      <td>74,520,649.44</td>\n",
       "    </tr>\n",
       "  </tbody>\n",
       "</table>\n",
       "</div>"
      ],
      "text/plain": [
       "  Cryptocurrency       Price          Volume\n",
       "0        Bitcoin  $23,711.54       54,118.93\n",
       "1       Ethereum   $1,636.44      473,418.44\n",
       "2         Tether       $1.00  113,550,488.54\n",
       "3   Binance Coin     $317.39       42,611.16\n",
       "4       USD Coin       $1.00    6,505,939.91\n",
       "5            XRP       $0.41   22,546,801.27\n",
       "6          Aptos      $17.89      622,322.24\n",
       "7           BUSD       $1.00      965,923.80\n",
       "8         Solana      $26.21    3,767,672.08\n",
       "9        Cardano       $0.39   74,520,649.44"
      ]
     },
     "execution_count": 325,
     "metadata": {},
     "output_type": "execute_result"
    }
   ],
   "source": [
    "#Format the columns\n",
    "volume_df1[\"Price\"] = volume_df1[\"Price\"].map(\"${:,.2f}\".format)\n",
    "volume_df1[\"Volume\"] = volume_df1[\"Volume\"].map(\"{:,.2f}\".format)\n",
    "#volume_df =volume_df_table.sort_values([\"Volume\"])\n",
    "volume_df1"
   ]
  },
  {
   "cell_type": "code",
   "execution_count": 339,
   "id": "1cf0744e",
   "metadata": {},
   "outputs": [
    {
     "data": {
      "text/plain": [
       "<function matplotlib.pyplot.show(close=None, block=None)>"
      ]
     },
     "execution_count": 339,
     "metadata": {},
     "output_type": "execute_result"
    },
    {
     "data": {
      "image/png": "[encoded data removed]",
      "text/plain": [
       "<Figure size 640x480 with 1 Axes>"
      ]
     },
     "metadata": {},
     "output_type": "display_data"
    }
   ],
   "source": [
    "#Present the information in a Pie chart; with the objective of visualize the relative size of each cryptocurrency's volumen trade in the past 24 hours.\n",
    "volume_df=pd.DataFrame({\n",
    "    \"Cryptocurrency\":name_mktcap_list,\n",
    "    \"Price\":price_mktcap_list,\n",
    "    \"Volume\":volume_list\n",
    "})\n",
    "colors = [\"yellow\",\"green\",\"blue\",\"orange\",\"red\",\"purple\",\"pink\",\"black\",\"lightskyblue\"]\n",
    "plt.pie(volume_df[\"Volume\"], labels=volume_df[\"Cryptocurrency\"], colors=colors,\n",
    "        autopct=\"%1.1f%%\")\n",
    "\n",
    "# Save an image of the chart and print the final product to the screen\n",
    "plt.savefig(\"Images/Pievolume.png\")\n",
    "plt.show"
   ]
  },
  {
   "cell_type": "code",
   "execution_count": null,
   "id": "c2d58112",
   "metadata": {},
   "outputs": [],
   "source": []
  },
  {
   "cell_type": "code",
   "execution_count": null,
   "id": "c5448e9b",
   "metadata": {},
   "outputs": [],
   "source": []
  }
 ],
 "metadata": {
  "kernelspec": {
   "display_name": "PythonData",
   "language": "python",
   "name": "pythondata"
  },
  "language_info": {
   "codemirror_mode": {
    "name": "ipython",
    "version": 3
   },
   "file_extension": ".py",
   "mimetype": "text/x-python",
   "name": "python",
   "nbconvert_exporter": "python",
   "pygments_lexer": "ipython3",
   "version": "3.9.13"
  }
 },
 "nbformat": 4,
 "nbformat_minor": 5
}
