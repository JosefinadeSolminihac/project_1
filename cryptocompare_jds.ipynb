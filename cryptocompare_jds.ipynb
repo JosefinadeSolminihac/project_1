{
 "cells": [
  {
   "cell_type": "code",
   "execution_count": 293,
   "id": "21011f6f",
   "metadata": {},
   "outputs": [],
   "source": [
    "#Dependencies\n",
    "import matplotlib.pyplot as plt\n",
    "import numpy as np\n",
    "import pandas as pd\n",
    "import requests\n",
    "import json\n",
    "from config import api_key"
   ]
  },
  {
   "cell_type": "code",
   "execution_count": 294,
   "id": "37f624d0",
   "metadata": {},
   "outputs": [],
   "source": [
    "#Build the url\n",
    "urlmktcap=f\"https://min-api.cryptocompare.com/data/top/mktcapfull?limit=10&tsym=USD&api_key={api_key}\"\n",
    "urlvolume=\"https://min-api.cryptocompare.com/data/top/totalvolfull?limit=10&tsym=USD&api_key={api_key}\""
   ]
  },
  {
   "cell_type": "code",
   "execution_count": 295,
   "id": "d50ccd05",
   "metadata": {},
   "outputs": [],
   "source": [
    "#Get the information with json format, and isolates data items for easy reading\n",
    "responsemktcap=requests.get(urlmktcap).json()\n",
    "datamktcap=response[\"Data\"]\n",
    "#data"
   ]
  },
  {
   "cell_type": "code",
   "execution_count": 296,
   "id": "bd7106a3",
   "metadata": {},
   "outputs": [],
   "source": [
    "#Obtain the names of the top 10 main currencies considering Market Capitalization. Create a list for the name, price and mktcap for each cryptocurrencies in the top 10. \n",
    "indexes=range(0,10)\n",
    "name_mktcap_list=[]\n",
    "price_mktcap_list=[]\n",
    "mktcap_list=[]\n",
    "for index in indexes:\n",
    "    name=data[index][\"CoinInfo\"][\"FullName\"]\n",
    "    price=data[index][\"RAW\"][\"USD\"][\"PRICE\"]\n",
    "    mktcap=data[index][\"RAW\"][\"USD\"]['MKTCAP']\n",
    "    name_mktcap_list.append(name)\n",
    "    price_mktcap_list.append(price)\n",
    "    mktcap_list.append(mktcap)"
   ]
  },
  {
   "cell_type": "code",
   "execution_count": 297,
   "id": "26538039",
   "metadata": {},
   "outputs": [],
   "source": [
    "#Create a DataFrame with the information\n",
    "mktcap_df1=pd.DataFrame({\n",
    "    \"Cryptocurrency\":name_mktcap_list,\n",
    "    \"Price\":price_mktcap_list,\n",
    "    \"Market Capitalization\":mktcap_list\n",
    "})"
   ]
  },
  {
   "cell_type": "code",
   "execution_count": 298,
   "id": "aa8db5fe",
   "metadata": {},
   "outputs": [
    {
     "data": {
      "text/html": [
       "<div>\n",
       "<style scoped>\n",
       "    .dataframe tbody tr th:only-of-type {\n",
       "        vertical-align: middle;\n",
       "    }\n",
       "\n",
       "    .dataframe tbody tr th {\n",
       "        vertical-align: top;\n",
       "    }\n",
       "\n",
       "    .dataframe thead th {\n",
       "        text-align: right;\n",
       "    }\n",
       "</style>\n",
       "<table border=\"1\" class=\"dataframe\">\n",
       "  <thead>\n",
       "    <tr style=\"text-align: right;\">\n",
       "      <th></th>\n",
       "      <th>Cryptocurrency</th>\n",
       "      <th>Price</th>\n",
       "      <th>Market Capitalization</th>\n",
       "    </tr>\n",
       "  </thead>\n",
       "  <tbody>\n",
       "    <tr>\n",
       "      <th>0</th>\n",
       "      <td>Bitcoin</td>\n",
       "      <td>$23,711.54</td>\n",
       "      <td>$457,075,334,829.22</td>\n",
       "    </tr>\n",
       "    <tr>\n",
       "      <th>1</th>\n",
       "      <td>Ethereum</td>\n",
       "      <td>$1,636.44</td>\n",
       "      <td>$200,257,489,633.46</td>\n",
       "    </tr>\n",
       "    <tr>\n",
       "      <th>2</th>\n",
       "      <td>Tether</td>\n",
       "      <td>$1.00</td>\n",
       "      <td>$67,620,214,772.91</td>\n",
       "    </tr>\n",
       "    <tr>\n",
       "      <th>3</th>\n",
       "      <td>Binance Coin</td>\n",
       "      <td>$317.39</td>\n",
       "      <td>$51,822,478,977.82</td>\n",
       "    </tr>\n",
       "    <tr>\n",
       "      <th>4</th>\n",
       "      <td>USD Coin</td>\n",
       "      <td>$1.00</td>\n",
       "      <td>$43,081,726,603.72</td>\n",
       "    </tr>\n",
       "    <tr>\n",
       "      <th>5</th>\n",
       "      <td>XRP</td>\n",
       "      <td>$0.41</td>\n",
       "      <td>$41,285,515,985.69</td>\n",
       "    </tr>\n",
       "    <tr>\n",
       "      <th>6</th>\n",
       "      <td>Aptos</td>\n",
       "      <td>$17.89</td>\n",
       "      <td>$18,199,045,684.89</td>\n",
       "    </tr>\n",
       "    <tr>\n",
       "      <th>7</th>\n",
       "      <td>BUSD</td>\n",
       "      <td>$1.00</td>\n",
       "      <td>$15,704,383,603.88</td>\n",
       "    </tr>\n",
       "    <tr>\n",
       "      <th>8</th>\n",
       "      <td>Solana</td>\n",
       "      <td>$26.21</td>\n",
       "      <td>$14,145,150,827.70</td>\n",
       "    </tr>\n",
       "    <tr>\n",
       "      <th>9</th>\n",
       "      <td>Cardano</td>\n",
       "      <td>$0.39</td>\n",
       "      <td>$13,386,314,436.47</td>\n",
       "    </tr>\n",
       "  </tbody>\n",
       "</table>\n",
       "</div>"
      ],
      "text/plain": [
       "  Cryptocurrency       Price Market Capitalization\n",
       "0        Bitcoin  $23,711.54   $457,075,334,829.22\n",
       "1       Ethereum   $1,636.44   $200,257,489,633.46\n",
       "2         Tether       $1.00    $67,620,214,772.91\n",
       "3   Binance Coin     $317.39    $51,822,478,977.82\n",
       "4       USD Coin       $1.00    $43,081,726,603.72\n",
       "5            XRP       $0.41    $41,285,515,985.69\n",
       "6          Aptos      $17.89    $18,199,045,684.89\n",
       "7           BUSD       $1.00    $15,704,383,603.88\n",
       "8         Solana      $26.21    $14,145,150,827.70\n",
       "9        Cardano       $0.39    $13,386,314,436.47"
      ]
     },
     "execution_count": 298,
     "metadata": {},
     "output_type": "execute_result"
    }
   ],
   "source": [
    "#Format the columns\n",
    "mktcap_df1[\"Price\"] = mktcap_df[\"Price\"].map(\"${:,.2f}\".format)\n",
    "mktcap_df1[\"Market Capitalization\"] = mktcap_df[\"Market Capitalization\"].map(\"${:,.2f}\".format)\n",
    "mktcap_df1"
   ]
  },
  {
   "cell_type": "code",
   "execution_count": 328,
   "id": "01a62408",
   "metadata": {},
   "outputs": [
    {
     "ename": "KeyError",
     "evalue": "'Market Capitalization'",
     "output_type": "error",
     "traceback": [
      "\u001b[0;31m---------------------------------------------------------------------------\u001b[0m",
      "\u001b[0;31mKeyError\u001b[0m                                  Traceback (most recent call last)",
      "\u001b[0;32m~/opt/anaconda3/lib/python3.9/site-packages/pandas/core/indexes/base.py\u001b[0m in \u001b[0;36mget_loc\u001b[0;34m(self, key, method, tolerance)\u001b[0m\n\u001b[1;32m   3628\u001b[0m             \u001b[0;32mtry\u001b[0m\u001b[0;34m:\u001b[0m\u001b[0;34m\u001b[0m\u001b[0;34m\u001b[0m\u001b[0m\n\u001b[0;32m-> 3629\u001b[0;31m                 \u001b[0;32mreturn\u001b[0m \u001b[0mself\u001b[0m\u001b[0;34m.\u001b[0m\u001b[0m_engine\u001b[0m\u001b[0;34m.\u001b[0m\u001b[0mget_loc\u001b[0m\u001b[0;34m(\u001b[0m\u001b[0mcasted_key\u001b[0m\u001b[0;34m)\u001b[0m\u001b[0;34m\u001b[0m\u001b[0;34m\u001b[0m\u001b[0m\n\u001b[0m\u001b[1;32m   3630\u001b[0m             \u001b[0;32mexcept\u001b[0m \u001b[0mKeyError\u001b[0m \u001b[0;32mas\u001b[0m \u001b[0merr\u001b[0m\u001b[0;34m:\u001b[0m\u001b[0;34m\u001b[0m\u001b[0;34m\u001b[0m\u001b[0m\n",
      "\u001b[0;32m~/opt/anaconda3/lib/python3.9/site-packages/pandas/_libs/index.pyx\u001b[0m in \u001b[0;36mpandas._libs.index.IndexEngine.get_loc\u001b[0;34m()\u001b[0m\n",
      "\u001b[0;32m~/opt/anaconda3/lib/python3.9/site-packages/pandas/_libs/index.pyx\u001b[0m in \u001b[0;36mpandas._libs.index.IndexEngine.get_loc\u001b[0;34m()\u001b[0m\n",
      "\u001b[0;32mpandas/_libs/hashtable_class_helper.pxi\u001b[0m in \u001b[0;36mpandas._libs.hashtable.PyObjectHashTable.get_item\u001b[0;34m()\u001b[0m\n",
      "\u001b[0;32mpandas/_libs/hashtable_class_helper.pxi\u001b[0m in \u001b[0;36mpandas._libs.hashtable.PyObjectHashTable.get_item\u001b[0;34m()\u001b[0m\n",
      "\u001b[0;31mKeyError\u001b[0m: 'Market Capitalization'",
      "\nThe above exception was the direct cause of the following exception:\n",
      "\u001b[0;31mKeyError\u001b[0m                                  Traceback (most recent call last)",
      "\u001b[0;32m/var/folders/9c/4pblb0895czg5j6_m386b3s00000gn/T/ipykernel_40670/2841517747.py\u001b[0m in \u001b[0;36m<module>\u001b[0;34m\u001b[0m\n\u001b[1;32m      6\u001b[0m })\n\u001b[1;32m      7\u001b[0m \u001b[0mcolors\u001b[0m \u001b[0;34m=\u001b[0m \u001b[0;34m[\u001b[0m\u001b[0;34m\"yellow\"\u001b[0m\u001b[0;34m,\u001b[0m\u001b[0;34m\"green\"\u001b[0m\u001b[0;34m,\u001b[0m\u001b[0;34m\"blue\"\u001b[0m\u001b[0;34m,\u001b[0m\u001b[0;34m\"orange\"\u001b[0m\u001b[0;34m,\u001b[0m\u001b[0;34m\"red\"\u001b[0m\u001b[0;34m,\u001b[0m\u001b[0;34m\"purple\"\u001b[0m\u001b[0;34m,\u001b[0m\u001b[0;34m\"pink\"\u001b[0m\u001b[0;34m,\u001b[0m\u001b[0;34m\"black\"\u001b[0m\u001b[0;34m,\u001b[0m\u001b[0;34m\"lightskyblue\"\u001b[0m\u001b[0;34m]\u001b[0m\u001b[0;34m\u001b[0m\u001b[0;34m\u001b[0m\u001b[0m\n\u001b[0;32m----> 8\u001b[0;31m plt.pie(volume_df[\"Market Capitalization\"], labels=volume_df[\"Cryptocurrency\"], colors=colors,\n\u001b[0m\u001b[1;32m      9\u001b[0m         autopct=\"%1.1f%%\")\n\u001b[1;32m     10\u001b[0m \u001b[0mplt\u001b[0m\u001b[0;34m.\u001b[0m\u001b[0mshow\u001b[0m\u001b[0;34m\u001b[0m\u001b[0;34m\u001b[0m\u001b[0m\n",
      "\u001b[0;32m~/opt/anaconda3/lib/python3.9/site-packages/pandas/core/frame.py\u001b[0m in \u001b[0;36m__getitem__\u001b[0;34m(self, key)\u001b[0m\n\u001b[1;32m   3503\u001b[0m             \u001b[0;32mif\u001b[0m \u001b[0mself\u001b[0m\u001b[0;34m.\u001b[0m\u001b[0mcolumns\u001b[0m\u001b[0;34m.\u001b[0m\u001b[0mnlevels\u001b[0m \u001b[0;34m>\u001b[0m \u001b[0;36m1\u001b[0m\u001b[0;34m:\u001b[0m\u001b[0;34m\u001b[0m\u001b[0;34m\u001b[0m\u001b[0m\n\u001b[1;32m   3504\u001b[0m                 \u001b[0;32mreturn\u001b[0m \u001b[0mself\u001b[0m\u001b[0;34m.\u001b[0m\u001b[0m_getitem_multilevel\u001b[0m\u001b[0;34m(\u001b[0m\u001b[0mkey\u001b[0m\u001b[0;34m)\u001b[0m\u001b[0;34m\u001b[0m\u001b[0;34m\u001b[0m\u001b[0m\n\u001b[0;32m-> 3505\u001b[0;31m             \u001b[0mindexer\u001b[0m \u001b[0;34m=\u001b[0m \u001b[0mself\u001b[0m\u001b[0;34m.\u001b[0m\u001b[0mcolumns\u001b[0m\u001b[0;34m.\u001b[0m\u001b[0mget_loc\u001b[0m\u001b[0;34m(\u001b[0m\u001b[0mkey\u001b[0m\u001b[0;34m)\u001b[0m\u001b[0;34m\u001b[0m\u001b[0;34m\u001b[0m\u001b[0m\n\u001b[0m\u001b[1;32m   3506\u001b[0m             \u001b[0;32mif\u001b[0m \u001b[0mis_integer\u001b[0m\u001b[0;34m(\u001b[0m\u001b[0mindexer\u001b[0m\u001b[0;34m)\u001b[0m\u001b[0;34m:\u001b[0m\u001b[0;34m\u001b[0m\u001b[0;34m\u001b[0m\u001b[0m\n\u001b[1;32m   3507\u001b[0m                 \u001b[0mindexer\u001b[0m \u001b[0;34m=\u001b[0m \u001b[0;34m[\u001b[0m\u001b[0mindexer\u001b[0m\u001b[0;34m]\u001b[0m\u001b[0;34m\u001b[0m\u001b[0;34m\u001b[0m\u001b[0m\n",
      "\u001b[0;32m~/opt/anaconda3/lib/python3.9/site-packages/pandas/core/indexes/base.py\u001b[0m in \u001b[0;36mget_loc\u001b[0;34m(self, key, method, tolerance)\u001b[0m\n\u001b[1;32m   3629\u001b[0m                 \u001b[0;32mreturn\u001b[0m \u001b[0mself\u001b[0m\u001b[0;34m.\u001b[0m\u001b[0m_engine\u001b[0m\u001b[0;34m.\u001b[0m\u001b[0mget_loc\u001b[0m\u001b[0;34m(\u001b[0m\u001b[0mcasted_key\u001b[0m\u001b[0;34m)\u001b[0m\u001b[0;34m\u001b[0m\u001b[0;34m\u001b[0m\u001b[0m\n\u001b[1;32m   3630\u001b[0m             \u001b[0;32mexcept\u001b[0m \u001b[0mKeyError\u001b[0m \u001b[0;32mas\u001b[0m \u001b[0merr\u001b[0m\u001b[0;34m:\u001b[0m\u001b[0;34m\u001b[0m\u001b[0;34m\u001b[0m\u001b[0m\n\u001b[0;32m-> 3631\u001b[0;31m                 \u001b[0;32mraise\u001b[0m \u001b[0mKeyError\u001b[0m\u001b[0;34m(\u001b[0m\u001b[0mkey\u001b[0m\u001b[0;34m)\u001b[0m \u001b[0;32mfrom\u001b[0m \u001b[0merr\u001b[0m\u001b[0;34m\u001b[0m\u001b[0;34m\u001b[0m\u001b[0m\n\u001b[0m\u001b[1;32m   3632\u001b[0m             \u001b[0;32mexcept\u001b[0m \u001b[0mTypeError\u001b[0m\u001b[0;34m:\u001b[0m\u001b[0;34m\u001b[0m\u001b[0;34m\u001b[0m\u001b[0m\n\u001b[1;32m   3633\u001b[0m                 \u001b[0;31m# If we have a listlike key, _check_indexing_error will raise\u001b[0m\u001b[0;34m\u001b[0m\u001b[0;34m\u001b[0m\u001b[0m\n",
      "\u001b[0;31mKeyError\u001b[0m: 'Market Capitalization'"
     ]
    }
   ],
   "source": [
    "#Present the information in a Pie chart; with the objective of visualize the relative size of each cryptocurrency's market capitalization.\n",
    "mktcap_df=pd.DataFrame({\n",
    "    \"Cryptocurrency\":name_mktcap_list,\n",
    "    \"Price\":price_mktcap_list,\n",
    "    \"Market Capitalization\":mktcap_list\n",
    "})\n",
    "colors = [\"yellow\",\"green\",\"blue\",\"orange\",\"red\",\"purple\",\"pink\",\"black\",\"lightskyblue\"]\n",
    "plt.pie(volume_df[\"Market Capitalization\"], labels=volume_df[\"Cryptocurrency\"], colors=colors,\n",
    "        autopct=\"%1.1f%%\")\n",
    "plt.show"
   ]
  },
  {
   "cell_type": "code",
   "execution_count": 299,
   "id": "188be46b",
   "metadata": {},
   "outputs": [],
   "source": [
    "#Get the information with json format, and isolates data items for easy reading\n",
    "responsevolume=requests.get(urlvolume).json()\n",
    "datavolume=responsevolume[\"Data\"]\n",
    "#datavolume"
   ]
  },
  {
   "cell_type": "code",
   "execution_count": 321,
   "id": "340e69c0",
   "metadata": {},
   "outputs": [],
   "source": [
    "#Obtain the names of the top 10 main currencies considering 24-hour trading volume. Create a list for the name, price and mktcap for each cryptocurrencies in the top 10. \n",
    "indexes=range(0,10)\n",
    "name_volume_list=[]\n",
    "price_volume_list=[]\n",
    "volume_list=[]\n",
    "for index in indexes:\n",
    "    name_v=data[index][\"CoinInfo\"][\"FullName\"]\n",
    "    price_v=data[index][\"RAW\"][\"USD\"][\"PRICE\"]\n",
    "    volume=data[index][\"RAW\"][\"USD\"]['VOLUME24HOUR']\n",
    "    name_volume_list.append(name_v)\n",
    "    price_volume_list.append(price_v)\n",
    "    volume_list.append(volume)\n"
   ]
  },
  {
   "cell_type": "code",
   "execution_count": 322,
   "id": "074cb458",
   "metadata": {},
   "outputs": [],
   "source": [
    "#Create a DataFrame with the information\n",
    "volume_df1=pd.DataFrame({\n",
    "    \"Cryptocurrency\":name_mktcap_list,\n",
    "    \"Price\":price_mktcap_list,\n",
    "    \"Volume\":volume_list\n",
    "})"
   ]
  },
  {
   "cell_type": "code",
   "execution_count": 325,
   "id": "2c7288fd",
   "metadata": {},
   "outputs": [
    {
     "data": {
      "text/html": [
       "<div>\n",
       "<style scoped>\n",
       "    .dataframe tbody tr th:only-of-type {\n",
       "        vertical-align: middle;\n",
       "    }\n",
       "\n",
       "    .dataframe tbody tr th {\n",
       "        vertical-align: top;\n",
       "    }\n",
       "\n",
       "    .dataframe thead th {\n",
       "        text-align: right;\n",
       "    }\n",
       "</style>\n",
       "<table border=\"1\" class=\"dataframe\">\n",
       "  <thead>\n",
       "    <tr style=\"text-align: right;\">\n",
       "      <th></th>\n",
       "      <th>Cryptocurrency</th>\n",
       "      <th>Price</th>\n",
       "      <th>Volume</th>\n",
       "    </tr>\n",
       "  </thead>\n",
       "  <tbody>\n",
       "    <tr>\n",
       "      <th>0</th>\n",
       "      <td>Bitcoin</td>\n",
       "      <td>$23,711.54</td>\n",
       "      <td>54,118.93</td>\n",
       "    </tr>\n",
       "    <tr>\n",
       "      <th>1</th>\n",
       "      <td>Ethereum</td>\n",
       "      <td>$1,636.44</td>\n",
       "      <td>473,418.44</td>\n",
       "    </tr>\n",
       "    <tr>\n",
       "      <th>2</th>\n",
       "      <td>Tether</td>\n",
       "      <td>$1.00</td>\n",
       "      <td>113,550,488.54</td>\n",
       "    </tr>\n",
       "    <tr>\n",
       "      <th>3</th>\n",
       "      <td>Binance Coin</td>\n",
       "      <td>$317.39</td>\n",
       "      <td>42,611.16</td>\n",
       "    </tr>\n",
       "    <tr>\n",
       "      <th>4</th>\n",
       "      <td>USD Coin</td>\n",
       "      <td>$1.00</td>\n",
       "      <td>6,505,939.91</td>\n",
       "    </tr>\n",
       "    <tr>\n",
       "      <th>5</th>\n",
       "      <td>XRP</td>\n",
       "      <td>$0.41</td>\n",
       "      <td>22,546,801.27</td>\n",
       "    </tr>\n",
       "    <tr>\n",
       "      <th>6</th>\n",
       "      <td>Aptos</td>\n",
       "      <td>$17.89</td>\n",
       "      <td>622,322.24</td>\n",
       "    </tr>\n",
       "    <tr>\n",
       "      <th>7</th>\n",
       "      <td>BUSD</td>\n",
       "      <td>$1.00</td>\n",
       "      <td>965,923.80</td>\n",
       "    </tr>\n",
       "    <tr>\n",
       "      <th>8</th>\n",
       "      <td>Solana</td>\n",
       "      <td>$26.21</td>\n",
       "      <td>3,767,672.08</td>\n",
       "    </tr>\n",
       "    <tr>\n",
       "      <th>9</th>\n",
       "      <td>Cardano</td>\n",
       "      <td>$0.39</td>\n",
       "      <td>74,520,649.44</td>\n",
       "    </tr>\n",
       "  </tbody>\n",
       "</table>\n",
       "</div>"
      ],
      "text/plain": [
       "  Cryptocurrency       Price          Volume\n",
       "0        Bitcoin  $23,711.54       54,118.93\n",
       "1       Ethereum   $1,636.44      473,418.44\n",
       "2         Tether       $1.00  113,550,488.54\n",
       "3   Binance Coin     $317.39       42,611.16\n",
       "4       USD Coin       $1.00    6,505,939.91\n",
       "5            XRP       $0.41   22,546,801.27\n",
       "6          Aptos      $17.89      622,322.24\n",
       "7           BUSD       $1.00      965,923.80\n",
       "8         Solana      $26.21    3,767,672.08\n",
       "9        Cardano       $0.39   74,520,649.44"
      ]
     },
     "execution_count": 325,
     "metadata": {},
     "output_type": "execute_result"
    }
   ],
   "source": [
    "#Format the columns\n",
    "volume_df1[\"Price\"] = volume_df1[\"Price\"].map(\"${:,.2f}\".format)\n",
    "volume_df1[\"Volume\"] = volume_df1[\"Volume\"].map(\"{:,.2f}\".format)\n",
    "#volume_df =volume_df_table.sort_values([\"Volume\"])\n",
    "volume_df1"
   ]
  },
  {
   "cell_type": "code",
   "execution_count": 326,
   "id": "e912e93b",
   "metadata": {},
   "outputs": [
    {
     "data": {
      "text/plain": [
       "<function matplotlib.pyplot.show(close=None, block=None)>"
      ]
     },
     "execution_count": 326,
     "metadata": {},
     "output_type": "execute_result"
    },
    {
     "data": {
      "image/png": "[encoded data removed]",
      "text/plain": [
       "<Figure size 640x480 with 1 Axes>"
      ]
     },
     "metadata": {},
     "output_type": "display_data"
    }
   ],
   "source": [
    "#Present the information in a Pie chart; with the objective of visualize the relative size of each cryptocurrency's volumen trade in the past 24 hours.\n",
    "volume_df=pd.DataFrame({\n",
    "    \"Cryptocurrency\":name_mktcap_list,\n",
    "    \"Price\":price_mktcap_list,\n",
    "    \"Volume\":volume_list\n",
    "})\n",
    "colors = [\"yellow\",\"green\",\"blue\",\"orange\",\"red\",\"purple\",\"pink\",\"black\",\"lightskyblue\"]\n",
    "plt.pie(volume_df[\"Volume\"], labels=volume_df[\"Cryptocurrency\"], colors=colors,\n",
    "        autopct=\"%1.1f%%\")\n",
    "plt.show"
   ]
  },
  {
   "cell_type": "code",
   "execution_count": null,
   "id": "b05e0974",
   "metadata": {},
   "outputs": [],
   "source": []
  },
  {
   "cell_type": "code",
   "execution_count": null,
   "id": "26083f22",
   "metadata": {},
   "outputs": [],
   "source": []
  }
 ],
 "metadata": {
  "kernelspec": {
   "display_name": "PythonData",
   "language": "python",
   "name": "pythondata"
  },
  "language_info": {
   "codemirror_mode": {
    "name": "ipython",
    "version": 3
   },
   "file_extension": ".py",
   "mimetype": "text/x-python",
   "name": "python",
   "nbconvert_exporter": "python",
   "pygments_lexer": "ipython3",
   "version": "3.9.13"
  }
 },
 "nbformat": 4,
 "nbformat_minor": 5
}
