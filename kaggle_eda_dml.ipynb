{
 "cells": [
  {
   "cell_type": "code",
   "execution_count": 6,
   "id": "e59ed62c",
   "metadata": {},
   "outputs": [],
   "source": [
    "# load dependencies\n",
    "import kaggle\n",
    "import zipfile\n",
    "import os\n",
    "import pandas as pd\n",
    "import numpy as np"
   ]
  },
  {
   "cell_type": "code",
   "execution_count": 7,
   "id": "6b083ab9",
   "metadata": {},
   "outputs": [
    {
     "name": "stdout",
     "output_type": "stream",
     "text": [
      "Warning: Your Kaggle API key is readable by other users on this system! To fix this, you can run 'chmod 600 /Users/davidlevy/.kaggle/kaggle.json'\n",
      "cryptocurrencypricehistory.zip: Skipping, found more recently modified local copy (use --force to force download)\n"
     ]
    }
   ],
   "source": [
    "# download `.zip` from Kaggle\n",
    "!kaggle datasets download -d sudalairajkumar/cryptocurrencypricehistory"
   ]
  },
  {
   "cell_type": "code",
   "execution_count": 27,
   "id": "37ac927c",
   "metadata": {},
   "outputs": [],
   "source": [
    "# extract all `.csv` files to a dedicated directory\n",
    "with zipfile.ZipFile(\"cryptocurrencypricehistory.zip\", 'r') as zip_ref:\n",
    "    zip_ref.extractall(\"raw_data\")\n",
    "\n",
    "# instantiate a dictionary to hold our dataframes\n",
    "frame_dict = {}\n",
    "\n",
    "# itereate over files \n",
    "for csv in os.listdir(\"/Users/davidlevy/Desktop/project_1/raw_data\"):\n",
    "    \n",
    "    # ignore hidden files\n",
    "    if csv[0] != \".\":\n",
    "        filepath = os.path.join(\"raw_data\", csv)\n",
    "        frame_dict[csv.replace(\".csv\", \"_df\")] = pd.read_csv(\"raw_data/\" + csv)"
   ]
  },
  {
   "cell_type": "code",
   "execution_count": null,
   "id": "967ae40f",
   "metadata": {},
   "outputs": [],
   "source": [
    "frame_dict[0].head()"
   ]
  }
 ],
 "metadata": {
  "kernelspec": {
   "display_name": "Python 3 (ipykernel)",
   "language": "python",
   "name": "python3"
  },
  "language_info": {
   "codemirror_mode": {
    "name": "ipython",
    "version": 3
   },
   "file_extension": ".py",
   "mimetype": "text/x-python",
   "name": "python",
   "nbconvert_exporter": "python",
   "pygments_lexer": "ipython3",
   "version": "3.9.12"
  }
 },
 "nbformat": 4,
 "nbformat_minor": 5
}
