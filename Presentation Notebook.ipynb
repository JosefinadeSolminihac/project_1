{
 "cells": [
  {
   "cell_type": "markdown",
   "id": "59300ab7",
   "metadata": {},
   "source": [
    "# Berkeley Data Analytics Bookcamp – Project 1\n",
    "\n",
    "## Cryptocurrency"
   ]
  },
  {
   "cell_type": "markdown",
   "id": "11a9557b",
   "metadata": {},
   "source": [
    "### An Eagle's Eye View – David"
   ]
  },
  {
   "cell_type": "code",
   "execution_count": null,
   "id": "8bc9e2eb",
   "metadata": {},
   "outputs": [],
   "source": []
  },
  {
   "cell_type": "markdown",
   "id": "e93dd2e5",
   "metadata": {},
   "source": [
    "### Top 10s – Josefina"
   ]
  },
  {
   "cell_type": "code",
   "execution_count": 1,
   "id": "698a0683",
   "metadata": {},
   "outputs": [],
   "source": [
    "#Dependencies\n",
    "import matplotlib.pyplot as plt\n",
    "import numpy as np\n",
    "import pandas as pd\n",
    "import requests\n",
    "import json\n",
    "from config import api_key"
   ]
  },
  {
   "cell_type": "code",
   "execution_count": 2,
   "id": "cfd8df86",
   "metadata": {},
   "outputs": [],
   "source": [
    "#Looked for the information in Crypto Compare. Build the url for both requests. \n",
    "urlmktcap=f\"https://min-api.cryptocompare.com/data/top/mktcapfull?limit=10&tsym=USD&api_key={api_key}\"\n",
    "urlvolume=\"https://min-api.cryptocompare.com/data/top/totalvolfull?limit=10&tsym=USD&api_key={api_key}\""
   ]
  },
  {
   "cell_type": "code",
   "execution_count": 4,
   "id": "9f0c575f",
   "metadata": {},
   "outputs": [],
   "source": [
    "#For the first analysis: get the information with json format, and isolates data items for easy reading\n",
    "responsemktcap=requests.get(urlmktcap).json()\n",
    "datamktcap=responsemktcap[\"Data\"]"
   ]
  },
  {
   "cell_type": "code",
   "execution_count": 6,
   "id": "b06d1d54",
   "metadata": {},
   "outputs": [],
   "source": [
    "#Obtain the names of the top 10 main currencies considering Market Capitalization. Create a list for the name, price and mktcap for each cryptocurrencies in the top 10. \n",
    "indexes=range(0,10)\n",
    "name_mktcap_list=[]\n",
    "price_mktcap_list=[]\n",
    "mktcap_list=[]\n",
    "for index in indexes:\n",
    "    name=datamktcap[index][\"CoinInfo\"][\"FullName\"]\n",
    "    price=datamktcap[index][\"RAW\"][\"USD\"][\"PRICE\"]\n",
    "    mktcap=datamktcap[index][\"RAW\"][\"USD\"]['MKTCAP']\n",
    "    name_mktcap_list.append(name)\n",
    "    price_mktcap_list.append(price)\n",
    "    mktcap_list.append(mktcap)"
   ]
  },
  {
   "cell_type": "code",
   "execution_count": 7,
   "id": "ab0c36f8",
   "metadata": {},
   "outputs": [],
   "source": [
    "#Create a DataFrame with the information obtained.\n",
    "mktcap_df1=pd.DataFrame({\n",
    "    \"Cryptocurrency\":name_mktcap_list,\n",
    "    \"Price\":price_mktcap_list,\n",
    "    \"Market Capitalization\":mktcap_list\n",
    "})"
   ]
  },
  {
   "cell_type": "code",
   "execution_count": 10,
   "id": "99e14206",
   "metadata": {},
   "outputs": [
    {
     "data": {
      "text/html": [
       "<div>\n",
       "<style scoped>\n",
       "    .dataframe tbody tr th:only-of-type {\n",
       "        vertical-align: middle;\n",
       "    }\n",
       "\n",
       "    .dataframe tbody tr th {\n",
       "        vertical-align: top;\n",
       "    }\n",
       "\n",
       "    .dataframe thead th {\n",
       "        text-align: right;\n",
       "    }\n",
       "</style>\n",
       "<table border=\"1\" class=\"dataframe\">\n",
       "  <thead>\n",
       "    <tr style=\"text-align: right;\">\n",
       "      <th></th>\n",
       "      <th>Cryptocurrency</th>\n",
       "      <th>Price</th>\n",
       "      <th>Market Capitalization</th>\n",
       "    </tr>\n",
       "  </thead>\n",
       "  <tbody>\n",
       "    <tr>\n",
       "      <th>0</th>\n",
       "      <td>Bitcoin</td>\n",
       "      <td>$22,837.00</td>\n",
       "      <td>$440,242,117,297.00</td>\n",
       "    </tr>\n",
       "    <tr>\n",
       "      <th>1</th>\n",
       "      <td>Ethereum</td>\n",
       "      <td>$1,569.11</td>\n",
       "      <td>$192,018,057,221.01</td>\n",
       "    </tr>\n",
       "    <tr>\n",
       "      <th>2</th>\n",
       "      <td>Tether</td>\n",
       "      <td>$1.00</td>\n",
       "      <td>$67,811,335,333.20</td>\n",
       "    </tr>\n",
       "    <tr>\n",
       "      <th>3</th>\n",
       "      <td>Binance Coin</td>\n",
       "      <td>$311.76</td>\n",
       "      <td>$50,903,229,610.65</td>\n",
       "    </tr>\n",
       "    <tr>\n",
       "      <th>4</th>\n",
       "      <td>USD Coin</td>\n",
       "      <td>$1.00</td>\n",
       "      <td>$42,708,478,549.85</td>\n",
       "    </tr>\n",
       "    <tr>\n",
       "      <th>5</th>\n",
       "      <td>XRP</td>\n",
       "      <td>$0.39</td>\n",
       "      <td>$39,195,742,955.66</td>\n",
       "    </tr>\n",
       "    <tr>\n",
       "      <th>6</th>\n",
       "      <td>Aptos</td>\n",
       "      <td>$16.84</td>\n",
       "      <td>$17,134,519,187.70</td>\n",
       "    </tr>\n",
       "    <tr>\n",
       "      <th>7</th>\n",
       "      <td>BUSD</td>\n",
       "      <td>$1.00</td>\n",
       "      <td>$15,730,618,727.77</td>\n",
       "    </tr>\n",
       "    <tr>\n",
       "      <th>8</th>\n",
       "      <td>Solana</td>\n",
       "      <td>$24.04</td>\n",
       "      <td>$12,974,006,146.62</td>\n",
       "    </tr>\n",
       "    <tr>\n",
       "      <th>9</th>\n",
       "      <td>Dogecoin</td>\n",
       "      <td>$0.09</td>\n",
       "      <td>$12,625,957,240.40</td>\n",
       "    </tr>\n",
       "  </tbody>\n",
       "</table>\n",
       "</div>"
      ],
      "text/plain": [
       "  Cryptocurrency       Price Market Capitalization\n",
       "0        Bitcoin  $22,837.00   $440,242,117,297.00\n",
       "1       Ethereum   $1,569.11   $192,018,057,221.01\n",
       "2         Tether       $1.00    $67,811,335,333.20\n",
       "3   Binance Coin     $311.76    $50,903,229,610.65\n",
       "4       USD Coin       $1.00    $42,708,478,549.85\n",
       "5            XRP       $0.39    $39,195,742,955.66\n",
       "6          Aptos      $16.84    $17,134,519,187.70\n",
       "7           BUSD       $1.00    $15,730,618,727.77\n",
       "8         Solana      $24.04    $12,974,006,146.62\n",
       "9       Dogecoin       $0.09    $12,625,957,240.40"
      ]
     },
     "execution_count": 10,
     "metadata": {},
     "output_type": "execute_result"
    }
   ],
   "source": [
    "#Format the columns and present the data.\n",
    "mktcap_df1[\"Price\"] = mktcap_df1[\"Price\"].map(\"${:,.2f}\".format)\n",
    "mktcap_df1[\"Market Capitalization\"] = mktcap_df1[\"Market Capitalization\"].map(\"${:,.2f}\".format)\n",
    "mktcap_df1"
   ]
  },
  {
   "cell_type": "code",
   "execution_count": 12,
   "id": "deaf88d2",
   "metadata": {},
   "outputs": [
    {
     "data": {
      "text/plain": [
       "<function matplotlib.pyplot.show(close=None, block=None)>"
      ]
     },
     "execution_count": 12,
     "metadata": {},
     "output_type": "execute_result"
    },
    {
     "data": {
      "image/png": "[encoded data removed]",
      "text/plain": [
       "<Figure size 640x480 with 1 Axes>"
      ]
     },
     "metadata": {},
     "output_type": "display_data"
    }
   ],
   "source": [
    "#Present the information in a Pie chart; with the objective of visualize the relative size of each cryptocurrency's market capitalization.\n",
    "mktcap_df=pd.DataFrame({\n",
    "    \"Cryptocurrency\":name_mktcap_list,\n",
    "    \"Price\":price_mktcap_list,\n",
    "    \"Market Capitalization\":mktcap_list\n",
    "})\n",
    "colors = [\"yellow\",\"green\",\"blue\",\"orange\",\"red\",\"purple\",\"pink\",\"black\",\"lightskyblue\"]\n",
    "plt.pie(mktcap_df[\"Market Capitalization\"], labels=mktcap_df[\"Cryptocurrency\"], colors=colors,\n",
    "        autopct=\"%1.1f%%\")\n",
    "# Save an image of the chart and print the final product to the screen\n",
    "plt.savefig(\"Images/PieMktCap.png\")\n",
    "plt.show"
   ]
  },
  {
   "cell_type": "code",
   "execution_count": 13,
   "id": "446cb2f7",
   "metadata": {},
   "outputs": [],
   "source": [
    "#For the second analysis: get the information with json format, and isolates data items for easy reading\n",
    "responsevolume=requests.get(urlvolume).json()\n",
    "datavolume=responsevolume[\"Data\"]"
   ]
  },
  {
   "cell_type": "code",
   "execution_count": 15,
   "id": "33b83078",
   "metadata": {},
   "outputs": [],
   "source": [
    "#Obtain the names of the top 10 main currencies considering 24-hour trading volume. Create a list for the name, price and mktcap for each cryptocurrencies in the top 10. \n",
    "indexes=range(0,10)\n",
    "name_volume_list=[]\n",
    "price_volume_list=[]\n",
    "volume_list=[]\n",
    "for index in indexes:\n",
    "    name_v=datavolume[index][\"CoinInfo\"][\"FullName\"]\n",
    "    price_v=datavolume[index][\"RAW\"][\"USD\"][\"PRICE\"]\n",
    "    volume=datavolume[index][\"RAW\"][\"USD\"]['VOLUME24HOUR']\n",
    "    name_volume_list.append(name_v)\n",
    "    price_volume_list.append(price_v)\n",
    "    volume_list.append(volume)"
   ]
  },
  {
   "cell_type": "code",
   "execution_count": 20,
   "id": "d9ddb70f",
   "metadata": {},
   "outputs": [],
   "source": [
    "#Create a DataFrame with the information\n",
    "volume_df1=pd.DataFrame({\n",
    "    \"Cryptocurrency\":name_mktcap_list,\n",
    "    \"Price\":price_mktcap_list,\n",
    "    \"Volume\":volume_list\n",
    "})"
   ]
  },
  {
   "cell_type": "code",
   "execution_count": 21,
   "id": "a71a2069",
   "metadata": {},
   "outputs": [
    {
     "data": {
      "text/html": [
       "<div>\n",
       "<style scoped>\n",
       "    .dataframe tbody tr th:only-of-type {\n",
       "        vertical-align: middle;\n",
       "    }\n",
       "\n",
       "    .dataframe tbody tr th {\n",
       "        vertical-align: top;\n",
       "    }\n",
       "\n",
       "    .dataframe thead th {\n",
       "        text-align: right;\n",
       "    }\n",
       "</style>\n",
       "<table border=\"1\" class=\"dataframe\">\n",
       "  <thead>\n",
       "    <tr style=\"text-align: right;\">\n",
       "      <th></th>\n",
       "      <th>Cryptocurrency</th>\n",
       "      <th>Price</th>\n",
       "      <th>Volume</th>\n",
       "    </tr>\n",
       "  </thead>\n",
       "  <tbody>\n",
       "    <tr>\n",
       "      <th>0</th>\n",
       "      <td>Bitcoin</td>\n",
       "      <td>$22,837.00</td>\n",
       "      <td>72,274.29</td>\n",
       "    </tr>\n",
       "    <tr>\n",
       "      <th>1</th>\n",
       "      <td>Ethereum</td>\n",
       "      <td>$1,569.11</td>\n",
       "      <td>586,588.99</td>\n",
       "    </tr>\n",
       "    <tr>\n",
       "      <th>2</th>\n",
       "      <td>Tether</td>\n",
       "      <td>$1.00</td>\n",
       "      <td>2,283,852.49</td>\n",
       "    </tr>\n",
       "    <tr>\n",
       "      <th>3</th>\n",
       "      <td>Binance Coin</td>\n",
       "      <td>$311.76</td>\n",
       "      <td>341,873,754.06</td>\n",
       "    </tr>\n",
       "    <tr>\n",
       "      <th>4</th>\n",
       "      <td>USD Coin</td>\n",
       "      <td>$1.00</td>\n",
       "      <td>177,866,684.26</td>\n",
       "    </tr>\n",
       "    <tr>\n",
       "      <th>5</th>\n",
       "      <td>XRP</td>\n",
       "      <td>$0.39</td>\n",
       "      <td>801,646.93</td>\n",
       "    </tr>\n",
       "    <tr>\n",
       "      <th>6</th>\n",
       "      <td>Aptos</td>\n",
       "      <td>$16.84</td>\n",
       "      <td>1,039,824,455.20</td>\n",
       "    </tr>\n",
       "    <tr>\n",
       "      <th>7</th>\n",
       "      <td>BUSD</td>\n",
       "      <td>$1.00</td>\n",
       "      <td>735,258.93</td>\n",
       "    </tr>\n",
       "    <tr>\n",
       "      <th>8</th>\n",
       "      <td>Solana</td>\n",
       "      <td>$24.04</td>\n",
       "      <td>4,021,773.58</td>\n",
       "    </tr>\n",
       "    <tr>\n",
       "      <th>9</th>\n",
       "      <td>Dogecoin</td>\n",
       "      <td>$0.09</td>\n",
       "      <td>46,152.95</td>\n",
       "    </tr>\n",
       "  </tbody>\n",
       "</table>\n",
       "</div>"
      ],
      "text/plain": [
       "  Cryptocurrency       Price            Volume\n",
       "0        Bitcoin  $22,837.00         72,274.29\n",
       "1       Ethereum   $1,569.11        586,588.99\n",
       "2         Tether       $1.00      2,283,852.49\n",
       "3   Binance Coin     $311.76    341,873,754.06\n",
       "4       USD Coin       $1.00    177,866,684.26\n",
       "5            XRP       $0.39        801,646.93\n",
       "6          Aptos      $16.84  1,039,824,455.20\n",
       "7           BUSD       $1.00        735,258.93\n",
       "8         Solana      $24.04      4,021,773.58\n",
       "9       Dogecoin       $0.09         46,152.95"
      ]
     },
     "execution_count": 21,
     "metadata": {},
     "output_type": "execute_result"
    }
   ],
   "source": [
    "#Format the columns\n",
    "volume_df1[\"Price\"] = volume_df1[\"Price\"].map(\"${:,.2f}\".format)\n",
    "volume_df1[\"Volume\"] = volume_df1[\"Volume\"].map(\"{:,.2f}\".format)\n",
    "volume_df1"
   ]
  },
  {
   "cell_type": "code",
   "execution_count": 22,
   "id": "a2a6f4d9",
   "metadata": {},
   "outputs": [
    {
     "data": {
      "text/plain": [
       "<function matplotlib.pyplot.show(close=None, block=None)>"
      ]
     },
     "execution_count": 22,
     "metadata": {},
     "output_type": "execute_result"
    },
    {
     "data": {
      "image/png": "[encoded data removed]",
      "text/plain": [
       "<Figure size 640x480 with 1 Axes>"
      ]
     },
     "metadata": {},
     "output_type": "display_data"
    }
   ],
   "source": [
    "#Present the information in a Pie chart; with the objective of visualize the relative size of each cryptocurrency's volumen trade in the past 24 hours.\n",
    "volume_df=pd.DataFrame({\n",
    "    \"Cryptocurrency\":name_mktcap_list,\n",
    "    \"Price\":price_mktcap_list,\n",
    "    \"Volume\":volume_list\n",
    "})\n",
    "colors = [\"yellow\",\"green\",\"blue\",\"orange\",\"red\",\"purple\",\"pink\",\"black\",\"lightskyblue\"]\n",
    "plt.pie(volume_df[\"Volume\"], labels=volume_df[\"Cryptocurrency\"], colors=colors,\n",
    "        autopct=\"%1.1f%%\")\n",
    "\n",
    "# Save an image of the chart and print the final product to the screen\n",
    "plt.savefig(\"Images/Pievolume.png\")\n",
    "plt.show"
   ]
  },
  {
   "cell_type": "markdown",
   "id": "f0282bb7",
   "metadata": {},
   "source": [
    "### Narrowing in on Bitcoin and Ethereum – Tristian"
   ]
  },
  {
   "cell_type": "code",
   "execution_count": null,
   "id": "b842ee1c",
   "metadata": {},
   "outputs": [],
   "source": []
  }
 ],
 "metadata": {
  "kernelspec": {
   "display_name": "Python 3 (ipykernel)",
   "language": "python",
   "name": "python3"
  },
  "language_info": {
   "codemirror_mode": {
    "name": "ipython",
    "version": 3
   },
   "file_extension": ".py",
   "mimetype": "text/x-python",
   "name": "python",
   "nbconvert_exporter": "python",
   "pygments_lexer": "ipython3",
   "version": "3.9.13"
  }
 },
 "nbformat": 4,
 "nbformat_minor": 5
}
