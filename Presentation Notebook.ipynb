{
 "cells": [
  {
   "cell_type": "markdown",
   "id": "59300ab7",
   "metadata": {},
   "source": [
    "# Berkeley Data Analytics Bookcamp – Project 1\n",
    "\n",
    "## Cryptocurrency"
   ]
  },
  {
   "cell_type": "markdown",
   "id": "11a9557b",
   "metadata": {},
   "source": [
    "### An Eagle's Eye View – David"
   ]
  },
  {
   "cell_type": "code",
   "execution_count": null,
   "id": "8bc9e2eb",
   "metadata": {},
   "outputs": [],
   "source": []
  },
  {
   "cell_type": "markdown",
   "id": "e93dd2e5",
   "metadata": {},
   "source": [
    "### Top 10s – Josefina"
   ]
  },
  {
   "cell_type": "code",
   "execution_count": null,
   "id": "698a0683",
   "metadata": {},
   "outputs": [],
   "source": []
  },
  {
   "cell_type": "markdown",
   "id": "f0282bb7",
   "metadata": {},
   "source": [
    "### Narrowing in on Bitcoin and Ethereum – Tristian"
   ]
  },
  {
   "cell_type": "code",
   "execution_count": null,
   "id": "b842ee1c",
   "metadata": {},
   "outputs": [],
   "source": []
  }
 ],
 "metadata": {
  "kernelspec": {
   "display_name": "Python 3 (ipykernel)",
   "language": "python",
   "name": "python3"
  },
  "language_info": {
   "codemirror_mode": {
    "name": "ipython",
    "version": 3
   },
   "file_extension": ".py",
   "mimetype": "text/x-python",
   "name": "python",
   "nbconvert_exporter": "python",
   "pygments_lexer": "ipython3",
   "version": "3.9.12"
  }
 },
 "nbformat": 4,
 "nbformat_minor": 5
}
